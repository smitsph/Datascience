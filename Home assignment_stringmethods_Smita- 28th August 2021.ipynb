{
 "cells": [
  {
   "cell_type": "code",
   "execution_count": null,
   "id": "5a3144c9",
   "metadata": {},
   "outputs": [],
   "source": [
    "#Create own variable and learn python string methods. Two examples of each"
   ]
  },
  {
   "cell_type": "code",
   "execution_count": 19,
   "id": "13e61d05",
   "metadata": {},
   "outputs": [],
   "source": [
    "Home_work='create own variable and learn variable python string methods'\n",
    "Work_cost='create own variable and learn string methods for {price:.2f} rupees'\n",
    "Home_work_caps='CREATE OWN VARIABLE AND LEARN PYTHON STRING METHODS'\n",
    "Home_work_init='Create Own Variable'\n",
    "Age_group='25','35','24','56','22'\n",
    "Temp= '25''43''54'\n",
    "Friends='     Lalita','Chitra','Raji'"
   ]
  },
  {
   "cell_type": "code",
   "execution_count": 5,
   "id": "d334bde3",
   "metadata": {},
   "outputs": [
    {
     "data": {
      "text/plain": [
       "'Create'"
      ]
     },
     "execution_count": 5,
     "metadata": {},
     "output_type": "execute_result"
    }
   ],
   "source": [
    "str.capitalize(Home_work[0:6])##Capitalize Converts the first character to upper case "
   ]
  },
  {
   "cell_type": "code",
   "execution_count": 12,
   "id": "3dfc0ed0",
   "metadata": {},
   "outputs": [
    {
     "data": {
      "text/plain": [
       "'create own variable and learn python string methods'"
      ]
     },
     "execution_count": 12,
     "metadata": {},
     "output_type": "execute_result"
    }
   ],
   "source": [
    "str.casefold(Home_work_caps)##\tcasefold Converts string into lower case"
   ]
  },
  {
   "cell_type": "code",
   "execution_count": 22,
   "id": "48708e04",
   "metadata": {
    "scrolled": true
   },
   "outputs": [
    {
     "name": "stdout",
     "output_type": "stream",
     "text": [
      "    variable   \n",
      "    VARIABLE   \n"
     ]
    }
   ],
   "source": [
    "var_centre=Home_work[11:19].center(15)##str.center to center print in the value provided\n",
    "var_upper=var_centre.upper()\n",
    "print(var_centre)\n",
    "print(var_upper)"
   ]
  },
  {
   "cell_type": "code",
   "execution_count": 12,
   "id": "9fc0f085",
   "metadata": {},
   "outputs": [
    {
     "data": {
      "text/plain": [
       "2"
      ]
     },
     "execution_count": 12,
     "metadata": {},
     "output_type": "execute_result"
    }
   ],
   "source": [
    "Home_work.count('variable')## counts the number of times the word variable is there in the variable variable"
   ]
  },
  {
   "cell_type": "code",
   "execution_count": 21,
   "id": "e4b6738d",
   "metadata": {},
   "outputs": [
    {
     "data": {
      "text/plain": [
       "b'    VARIABLE   '"
      ]
     },
     "execution_count": 21,
     "metadata": {},
     "output_type": "execute_result"
    }
   ],
   "source": [
    "##str.encode#encoded version of variable\n",
    "var_upper.encode()"
   ]
  },
  {
   "cell_type": "code",
   "execution_count": 26,
   "id": "a35d80fe",
   "metadata": {},
   "outputs": [
    {
     "data": {
      "text/plain": [
       "False"
      ]
     },
     "execution_count": 26,
     "metadata": {},
     "output_type": "execute_result"
    }
   ],
   "source": [
    "#str.endswith gives boolean if the ending value is true or false\n",
    "var_upper.endswith('')\n",
    "var_upper.endswith('E')"
   ]
  },
  {
   "cell_type": "code",
   "execution_count": 5,
   "id": "934025bc",
   "metadata": {},
   "outputs": [
    {
     "name": "stdout",
     "output_type": "stream",
     "text": [
      "V       e       r       s       i       o       n\n",
      "V   e   r   s   i   o   n\n",
      "V     e     r     s     i     o     n\n",
      "V         e         r         s         i         o         n\n"
     ]
    }
   ],
   "source": [
    "exp=\"V\\te\\tr\\ts\\ti\\to\\tn\"##str.expandtabs provides for setting tabvalues.\n",
    "print(exp.expandtabs())st\n",
    "print(exp.expandtabs(4))\n",
    "print(exp.expandtabs(6))\n",
    "print(exp.expandtabs(10))"
   ]
  },
  {
   "cell_type": "code",
   "execution_count": 46,
   "id": "4c0e9219",
   "metadata": {},
   "outputs": [
    {
     "data": {
      "text/plain": [
       "39"
      ]
     },
     "execution_count": 46,
     "metadata": {},
     "output_type": "execute_result"
    }
   ],
   "source": [
    "Home_work.find('python')#find helps find position of value in the variable, if found\n",
    "Home_work.find('tuple')# find will return -1 value if not found\n",
    "Home_work.rfind('python')#rfind helps find position of value in the variable, if found\n",
    "Home_work.find('python')#find helps find position of value in the variable, if found"
   ]
  },
  {
   "cell_type": "code",
   "execution_count": 44,
   "id": "89c94fd9",
   "metadata": {},
   "outputs": [
    {
     "data": {
      "text/plain": [
       "7"
      ]
     },
     "execution_count": 44,
     "metadata": {},
     "output_type": "execute_result"
    }
   ],
   "source": [
    "Home_work_init.rindex('Own')#index and rindex, helps find position of value in the variable, if found\n",
    "Home_work_init.index('Own')"
   ]
  },
  {
   "cell_type": "code",
   "execution_count": 34,
   "id": "a30c0777",
   "metadata": {},
   "outputs": [
    {
     "name": "stdout",
     "output_type": "stream",
     "text": [
      "create own variable and learn string methods for 0.00 rupees\n"
     ]
    }
   ],
   "source": [
    "Cost=(Work_cost.format(price=0))## helps format a value within a variable\n",
    "print(Cost)"
   ]
  },
  {
   "cell_type": "code",
   "execution_count": 35,
   "id": "725a2262",
   "metadata": {},
   "outputs": [
    {
     "data": {
      "text/plain": [
       "39"
      ]
     },
     "execution_count": 35,
     "metadata": {},
     "output_type": "execute_result"
    }
   ],
   "source": [
    "Home_work.index('python')## Like find traces position of value searched in a string"
   ]
  },
  {
   "cell_type": "code",
   "execution_count": 36,
   "id": "b8da6e0b",
   "metadata": {},
   "outputs": [
    {
     "data": {
      "text/plain": [
       "False"
      ]
     },
     "execution_count": 36,
     "metadata": {},
     "output_type": "execute_result"
    }
   ],
   "source": [
    "Cost.isalnum()# Check if all the characters in the text are alphanumeric:"
   ]
  },
  {
   "cell_type": "code",
   "execution_count": 50,
   "id": "848f506b",
   "metadata": {},
   "outputs": [
    {
     "data": {
      "text/plain": [
       "False"
      ]
     },
     "execution_count": 50,
     "metadata": {},
     "output_type": "execute_result"
    }
   ],
   "source": [
    "Al='Alphabetvalues'\n",
    "Al.isalpha() #Returns True if all characters in the string are in the alphabet, spaces\n",
    "              #not considered as alphabets"
   ]
  },
  {
   "cell_type": "code",
   "execution_count": 49,
   "id": "ce219175",
   "metadata": {},
   "outputs": [
    {
     "data": {
      "text/plain": [
       "True"
      ]
     },
     "execution_count": 49,
     "metadata": {},
     "output_type": "execute_result"
    }
   ],
   "source": [
    "Ascitrue='Alphabet values%0'##Returns True if all characters in the string are ascii characters\n",
    "Ascitrue.isascii()"
   ]
  },
  {
   "cell_type": "code",
   "execution_count": 59,
   "id": "1fb7b649",
   "metadata": {},
   "outputs": [
    {
     "name": "stdout",
     "output_type": "stream",
     "text": [
      "3\n",
      "E\n",
      "True\n",
      "False\n"
     ]
    }
   ],
   "source": [
    "a = \"\\u0033\" #unicode for 3 \n",
    "b = \"\\u0045\" #unicode for G\n",
    "print(a)\n",
    "print(b)\n",
    "print(a.isdecimal())#Check if all the characters in the unicode are numbers:\n",
    "print(b.isdecimal())"
   ]
  },
  {
   "cell_type": "code",
   "execution_count": 82,
   "id": "a85adb0b",
   "metadata": {},
   "outputs": [
    {
     "data": {
      "text/plain": [
       "True"
      ]
     },
     "execution_count": 82,
     "metadata": {},
     "output_type": "execute_result"
    }
   ],
   "source": [
    "Temp.isdigit() ##Returns True if all characters in the string are digits without comma \n",
    "               ## and without decimals"
   ]
  },
  {
   "cell_type": "code",
   "execution_count": 107,
   "id": "b14e2fbe",
   "metadata": {},
   "outputs": [
    {
     "name": "stdout",
     "output_type": "stream",
     "text": [
      "Costofplumis20.5rupees\n"
     ]
    },
    {
     "data": {
      "text/plain": [
       "False"
      ]
     },
     "execution_count": 107,
     "metadata": {},
     "output_type": "execute_result"
    }
   ],
   "source": [
    "Plum_cost='Costofplumis20.5rupees'\n",
    "print(Plum_cost)\n",
    "Plum_cost.isidentifier()\n",
    "##A string is considered a valid identifier if it only contains alphanumeric letters (a-z) and (0-9), or underscores (_). \n",
    "##A valid identifier cannot start with a number, or contain any spaces."
   ]
  },
  {
   "cell_type": "code",
   "execution_count": 102,
   "id": "c92e8364",
   "metadata": {},
   "outputs": [
    {
     "data": {
      "text/plain": [
       "False"
      ]
     },
     "execution_count": 102,
     "metadata": {},
     "output_type": "execute_result"
    }
   ],
   "source": [
    "Home_work_caps.islower() #Returns True if all characters in the string are lower case"
   ]
  },
  {
   "cell_type": "code",
   "execution_count": 103,
   "id": "f1d4b990",
   "metadata": {},
   "outputs": [
    {
     "data": {
      "text/plain": [
       "True"
      ]
     },
     "execution_count": 103,
     "metadata": {},
     "output_type": "execute_result"
    }
   ],
   "source": [
    "Temp.isnumeric()#Returns True if all characters in the string are numeric"
   ]
  },
  {
   "cell_type": "code",
   "execution_count": 105,
   "id": "319a2106",
   "metadata": {},
   "outputs": [
    {
     "data": {
      "text/plain": [
       "True"
      ]
     },
     "execution_count": 105,
     "metadata": {},
     "output_type": "execute_result"
    }
   ],
   "source": [
    "Temp.isprintable()"
   ]
  },
  {
   "cell_type": "code",
   "execution_count": 113,
   "id": "388cacf3",
   "metadata": {},
   "outputs": [
    {
     "data": {
      "text/plain": [
       "True"
      ]
     },
     "execution_count": 113,
     "metadata": {},
     "output_type": "execute_result"
    }
   ],
   "source": [
    "Plum_cost1='   '\n",
    "Plum_cost1.isspace() ##Check if all the characters in the text are whitespaces:st"
   ]
  },
  {
   "cell_type": "code",
   "execution_count": 115,
   "id": "d9546114",
   "metadata": {},
   "outputs": [
    {
     "data": {
      "text/plain": [
       "True"
      ]
     },
     "execution_count": 115,
     "metadata": {},
     "output_type": "execute_result"
    }
   ],
   "source": [
    "Home_work_init.istitle()##The istitle() method returns True if all words in a text start \n",
    "                        ##with a upper case letter, AND the rest of the word are lower case \n",
    "                        ##letters, otherwise False.\n",
    "                       ##Symbols and numbers are ignored."
   ]
  },
  {
   "cell_type": "code",
   "execution_count": 116,
   "id": "df38761e",
   "metadata": {},
   "outputs": [
    {
     "data": {
      "text/plain": [
       "True"
      ]
     },
     "execution_count": 116,
     "metadata": {},
     "output_type": "execute_result"
    }
   ],
   "source": [
    "Home_work_caps.isupper()##Returns True if all characters in the string are upper case"
   ]
  },
  {
   "cell_type": "code",
   "execution_count": 8,
   "id": "260c72cb",
   "metadata": {},
   "outputs": [
    {
     "name": "stdout",
     "output_type": "stream",
     "text": [
      "Lalita Chitra Raji\n"
     ]
    }
   ],
   "source": [
    "Joint = \" \".join(Friends)#The join() method takes all items in an iterable and joins them into one string.\n",
    "##A string must be specified as the separator.\n",
    "print(Joint)"
   ]
  },
  {
   "cell_type": "code",
   "execution_count": 10,
   "id": "cfcd50d1",
   "metadata": {},
   "outputs": [
    {
     "name": "stdout",
     "output_type": "stream",
     "text": [
      "('The Three friends are', 'Lalita Chitra RajiXXXXXXXXXXXXXXXXXXXXXXXXXXXXXXXXXXXXXXXXXX')\n"
     ]
    }
   ],
   "source": [
    "Three=\"The Three friends are\",Joint.ljust(60,'X')\n",
    "print(Three)"
   ]
  },
  {
   "cell_type": "code",
   "execution_count": 12,
   "id": "b9e9b002",
   "metadata": {},
   "outputs": [
    {
     "name": "stdout",
     "output_type": "stream",
     "text": [
      "('The Three friends are', 'XXXXXXXXXXXXXXXXXXXXXXXXXXXXXXXXXXXXXXXXXXXXXXXXXXXXLalita Chitra Raji')\n"
     ]
    }
   ],
   "source": [
    "Three=\"The Three friends are\",Joint.rjust(70,'X')\n",
    "print(Three)"
   ]
  },
  {
   "cell_type": "code",
   "execution_count": 13,
   "id": "95289a41",
   "metadata": {},
   "outputs": [
    {
     "data": {
      "text/plain": [
       "'create own variable and learn python string methods'"
      ]
     },
     "execution_count": 13,
     "metadata": {},
     "output_type": "execute_result"
    }
   ],
   "source": [
    "Home_work_caps.lower()"
   ]
  },
  {
   "cell_type": "code",
   "execution_count": 15,
   "id": "a131e87f",
   "metadata": {},
   "outputs": [
    {
     "data": {
      "text/plain": [
       "'CREATE OWN VARIABLE AND LEARN VARIABLE PYTHON STRING METHODS'"
      ]
     },
     "execution_count": 15,
     "metadata": {},
     "output_type": "execute_result"
    }
   ],
   "source": [
    "Home_work.upper()"
   ]
  },
  {
   "cell_type": "code",
   "execution_count": 31,
   "id": "575b9795",
   "metadata": {},
   "outputs": [
    {
     "name": "stdout",
     "output_type": "stream",
     "text": [
      "My world Lalita\n"
     ]
    }
   ],
   "source": [
    "Friends='Lalita    '\n",
    "x = Friends.rstrip()\n",
    "print('My world',x)"
   ]
  },
  {
   "cell_type": "code",
   "execution_count": 68,
   "id": "795b6984",
   "metadata": {},
   "outputs": [
    {
     "name": "stdout",
     "output_type": "stream",
     "text": [
      "My world Lalita    \n"
     ]
    }
   ],
   "source": [
    "Friends='Lalita    '\n",
    "x = Friends.strip('WW')#The strip() method removes any leading (spaces at the beginning) and trailing (spaces at the end) characters (space is the default leading character to remove)\n",
    "print('My world',x)"
   ]
  },
  {
   "cell_type": "code",
   "execution_count": 25,
   "id": "6b443523",
   "metadata": {},
   "outputs": [
    {
     "name": "stdout",
     "output_type": "stream",
     "text": [
      "My world Lalita\n"
     ]
    }
   ],
   "source": [
    "Friends='     Lalita'\n",
    "x = Friends.lstrip()\n",
    "print('My world',x)"
   ]
  },
  {
   "cell_type": "code",
   "execution_count": 36,
   "id": "c65979fe",
   "metadata": {},
   "outputs": [
    {
     "name": "stdout",
     "output_type": "stream",
     "text": [
      "Rajta\n"
     ]
    }
   ],
   "source": [
    "Friends='Lalita'\n",
    "mytable = Friends.maketrans(\"Lal\", \"Raj\",\"i\")\n",
    "print(Friends.translate(mytable))##The maketrans() method returns a mapping table that can\n",
    "                                ##be used with the translate() method to replace specified \n",
    "                                ##characters.string.maketrans(x, y, z), z being value to delete\n",
    "\n"
   ]
  },
  {
   "cell_type": "code",
   "execution_count": 38,
   "id": "46853bf3",
   "metadata": {
    "scrolled": true
   },
   "outputs": [
    {
     "name": "stdout",
     "output_type": "stream",
     "text": [
      "('I ', 'love', ' the world')\n"
     ]
    }
   ],
   "source": [
    "stt='I love the world'\n",
    "x = stt.partition(\"love\")## splits the string value to before and after the value passed in the partition function\n",
    "print(x)"
   ]
  },
  {
   "cell_type": "code",
   "execution_count": 47,
   "id": "771653bb",
   "metadata": {},
   "outputs": [
    {
     "name": "stdout",
     "output_type": "stream",
     "text": [
      "('I ', 'love', ' the world')\n"
     ]
    }
   ],
   "source": [
    "stt='I love the world'\n",
    "x = stt.rpartition(\"love\")## splits the string value to before and after the value passed in the partition function\n",
    "print(x)"
   ]
  },
  {
   "cell_type": "code",
   "execution_count": 39,
   "id": "0c5a97f7",
   "metadata": {},
   "outputs": [
    {
     "data": {
      "text/plain": [
       "'Lalita Reuben Raji'"
      ]
     },
     "execution_count": 39,
     "metadata": {},
     "output_type": "execute_result"
    }
   ],
   "source": [
    "Joint.replace('Chitra','Reuben')## replaces value"
   ]
  },
  {
   "cell_type": "code",
   "execution_count": 58,
   "id": "8bd6f7e9",
   "metadata": {},
   "outputs": [
    {
     "data": {
      "text/plain": [
       "['Round,alpha', 'bet', 'values', 'therein']"
      ]
     },
     "execution_count": 58,
     "metadata": {},
     "output_type": "execute_result"
    }
   ],
   "source": [
    "Al1='Round,alpha;bet;values;therein'\n",
    "Al1.rsplit(';',3) #Split the string into a list with maximum 2 items:he rsplit() method \n",
    "                 #splits a string into a list, starting from the right.\n",
    "                 #If no \"max\" is specified, this method will return the same as the split() method."
   ]
  },
  {
   "cell_type": "code",
   "execution_count": 59,
   "id": "02f0c881",
   "metadata": {},
   "outputs": [
    {
     "data": {
      "text/plain": [
       "['Round,alpha', 'bet', 'values', 'therein']"
      ]
     },
     "execution_count": 59,
     "metadata": {},
     "output_type": "execute_result"
    }
   ],
   "source": [
    "Al1='Round,alpha;bet;values;therein'\n",
    "Al1.split(';',3)"
   ]
  },
  {
   "cell_type": "code",
   "execution_count": 62,
   "id": "4df737b7",
   "metadata": {},
   "outputs": [
    {
     "data": {
      "text/plain": [
       "['Round,alpha;bet;values;therein']"
      ]
     },
     "execution_count": 62,
     "metadata": {},
     "output_type": "execute_result"
    }
   ],
   "source": [
    "Al1='Round,alpha;bet;values;therein'\n",
    "Al1.splitlines(2)"
   ]
  },
  {
   "cell_type": "code",
   "execution_count": 63,
   "id": "8e9d08c5",
   "metadata": {},
   "outputs": [
    {
     "data": {
      "text/plain": [
       "True"
      ]
     },
     "execution_count": 63,
     "metadata": {},
     "output_type": "execute_result"
    }
   ],
   "source": [
    "stt.startswith('I')##The startswith() method returns True if the string starts with the specified value, otherwise False."
   ]
  },
  {
   "cell_type": "code",
   "execution_count": 69,
   "id": "33cbd413",
   "metadata": {},
   "outputs": [
    {
     "data": {
      "text/plain": [
       "'cREATE oWN vARIABLE'"
      ]
     },
     "execution_count": 69,
     "metadata": {},
     "output_type": "execute_result"
    }
   ],
   "source": [
    "Home_work_init.swapcase()#Make the lower case letters upper case and the upper case letters lower case:\n"
   ]
  },
  {
   "cell_type": "code",
   "execution_count": 75,
   "id": "7b5e8999",
   "metadata": {},
   "outputs": [
    {
     "data": {
      "text/plain": [
       "'0000000Create Own Variable'"
      ]
     },
     "execution_count": 75,
     "metadata": {},
     "output_type": "execute_result"
    }
   ],
   "source": [
    "#The zfill() method adds zeros (0) at the beginning of the string, \n",
    "#until it reaches the specified length.If the value of the len parameter\n",
    "#is less than the length of the string, no filling is done.\n",
    "Home_work_init.zfill(26)\n"
   ]
  },
  {
   "cell_type": "code",
   "execution_count": 1,
   "id": "736dd8ac",
   "metadata": {},
   "outputs": [
    {
     "data": {
      "text/plain": [
       "23"
      ]
     },
     "execution_count": 1,
     "metadata": {},
     "output_type": "execute_result"
    }
   ],
   "source": [
    "#Count words and characters in below string (excluding space):\n",
    "mainString = 'Data Science 2021 batch'\n",
    "len(mainString)"
   ]
  },
  {
   "cell_type": "code",
   "execution_count": 21,
   "id": "c5a7ca6d",
   "metadata": {},
   "outputs": [
    {
     "name": "stdout",
     "output_type": "stream",
     "text": [
      "4\n"
     ]
    }
   ],
   "source": [
    "mainString = 'Data Science 2021 batch'\n",
    "wordlist = mainString.split()\n",
    "wordLen = len(wordlist)\n",
    "print(wordLen)"
   ]
  },
  {
   "cell_type": "code",
   "execution_count": 22,
   "id": "dcd7d076",
   "metadata": {},
   "outputs": [
    {
     "data": {
      "text/plain": [
       "23"
      ]
     },
     "execution_count": 22,
     "metadata": {},
     "output_type": "execute_result"
    }
   ],
   "source": [
    "len(mainString)"
   ]
  },
  {
   "cell_type": "code",
   "execution_count": null,
   "id": "36f5ec21",
   "metadata": {},
   "outputs": [],
   "source": [
    "1) Count words and characters in below string (excluding space):\n",
    "mainString = 'Data Science 2021 batch'"
   ]
  },
  {
   "cell_type": "code",
   "execution_count": null,
   "id": "290893fb",
   "metadata": {},
   "outputs": [],
   "source": [
    "2) Extract mobile number from the given string :\n",
    "mainString = 'My number is 8888888888'"
   ]
  },
  {
   "cell_type": "code",
   "execution_count": null,
   "id": "25ba62e0",
   "metadata": {},
   "outputs": [],
   "source": [
    "3) Extract email address :\n",
    "mainString = 'My email is abc@g.com"
   ]
  },
  {
   "cell_type": "code",
   "execution_count": null,
   "id": "8ac4b6b8",
   "metadata": {},
   "outputs": [],
   "source": [
    "4) Fibonacci series for 10 numbers"
   ]
  },
  {
   "cell_type": "code",
   "execution_count": null,
   "id": "cdba1667",
   "metadata": {},
   "outputs": [],
   "source": [
    "5) Remove a value from string by taking index from the user\n",
    "example :\n",
    "stringName = \"Hello Participants 2020\"\n",
    "index = 2\n",
    "output : \"Helo Participants 2020\""
   ]
  },
  {
   "cell_type": "code",
   "execution_count": null,
   "id": "c5f9e50e",
   "metadata": {},
   "outputs": [],
   "source": [
    "6) Write a program, which takes two inputs as ‘start’ and ‘end’ from the user, and \n",
    "you have to print prime numbers between the defined range and also the sum of all those\n",
    "prime numbers too.¶"
   ]
  },
  {
   "cell_type": "code",
   "execution_count": null,
   "id": "6fba678e",
   "metadata": {},
   "outputs": [],
   "source": [
    "7) Write a program which takes a string from the user and you \n",
    "have to check whether that string is palindrome or not."
   ]
  },
  {
   "cell_type": "code",
   "execution_count": null,
   "id": "e320a235",
   "metadata": {},
   "outputs": [],
   "source": [
    "8) Write a program which takes 5 numbers as input from the user and you \n",
    "have to create a dictionary which stores those numbers as keys and their \n",
    "squared result as values of those keys.¶\n"
   ]
  },
  {
   "cell_type": "code",
   "execution_count": null,
   "id": "6d7e20ce",
   "metadata": {},
   "outputs": [],
   "source": [
    "9) Write a program which takes a number from the user and the output \n",
    "should be the factorial of that number. \n",
    "Solve this question using a loop."
   ]
  },
  {
   "cell_type": "code",
   "execution_count": null,
   "id": "f3c4b397",
   "metadata": {},
   "outputs": [],
   "source": [
    "10) Write a program which asks a user every time whether he wants to enter a number or not, \n",
    "if the user enters ‘yes’, then take an input and print the sum of all numbers that he has \n",
    "given till now, otherwise end the program."
   ]
  }
 ],
 "metadata": {
  "kernelspec": {
   "display_name": "Python 3",
   "language": "python",
   "name": "python3"
  },
  "language_info": {
   "codemirror_mode": {
    "name": "ipython",
    "version": 3
   },
   "file_extension": ".py",
   "mimetype": "text/x-python",
   "name": "python",
   "nbconvert_exporter": "python",
   "pygments_lexer": "ipython3",
   "version": "3.8.8"
  }
 },
 "nbformat": 4,
 "nbformat_minor": 5
}
