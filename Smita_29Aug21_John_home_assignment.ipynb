{
 "cells": [
  {
   "cell_type": "code",
   "execution_count": null,
   "id": "67f78108",
   "metadata": {},
   "outputs": [],
   "source": [
    "#Submit 2 examples for each module\n",
    "#1. while loop\n",
    "#2. for loop\n",
    "#3. if else\n",
    "#4. if elif else\n",
    "#5. user defined functions with for loop\n",
    "#7  user defined functions with for loop and if loop\n",
    "    user defined functions without for loop, if loop\n",
    "11break\n",
    "12 continue\n",
    "13. for loop with in operator\n",
    "14. for loop with if statement \n",
    "15. for loop with not in operator\n",
    "16. if with in operator\n",
    "17. if with not in opearator\n"
   ]
  },
  {
   "cell_type": "code",
   "execution_count": 2,
   "id": "d44072e3",
   "metadata": {},
   "outputs": [
    {
     "name": "stdout",
     "output_type": "stream",
     "text": [
      "0  is  less than 3\n",
      "1  is  less than 3\n",
      "2  is  less than 3\n",
      "3  is not less than 3\n"
     ]
    }
   ],
   "source": [
    "#1. while loop\n",
    "num = 0\n",
    "while num < 3:\n",
    "   print(num, \" is  less than 3\")\n",
    "   num = num + 1\n",
    "else:\n",
    "   print(num, \" is not less than 3\")"
   ]
  },
  {
   "cell_type": "code",
   "execution_count": 11,
   "id": "f96727eb",
   "metadata": {},
   "outputs": [
    {
     "name": "stdout",
     "output_type": "stream",
     "text": [
      "2\n",
      "4\n",
      "6\n",
      "8\n",
      "10\n",
      "12\n",
      "14\n",
      "16\n",
      "18\n",
      "20\n"
     ]
    }
   ],
   "source": [
    "#for loop\n",
    "for i in range(1,11):\n",
    "    print(i*2)"
   ]
  },
  {
   "cell_type": "code",
   "execution_count": 16,
   "id": "e3c13b21",
   "metadata": {},
   "outputs": [
    {
     "name": "stdout",
     "output_type": "stream",
     "text": [
      "Enter value for a10\n",
      "Enter value for a6\n",
      "Enter value for a8\n",
      "10 is not less than 6\n"
     ]
    }
   ],
   "source": [
    "#if else\n",
    "a = int(input('Enter value for a')) \n",
    "b = int(input('Enter value for a'))\n",
    "c = int(input('Enter value for a')) \n",
    "\n",
    "if a<b:\n",
    "\tprint(a, 'is less than', b)\n",
    "\tif c<b:\n",
    "\t\tprint(c, 'is less than', b)\n",
    "\telse:\n",
    "\t\tprint(c, 'is not less than', b)\n",
    "else:\n",
    "\tprint(a, 'is not less than', b)"
   ]
  },
  {
   "cell_type": "code",
   "execution_count": 18,
   "id": "c60517dd",
   "metadata": {},
   "outputs": [
    {
     "name": "stdout",
     "output_type": "stream",
     "text": [
      "Enter a nameRaina\n",
      "Enter a nameSushant\n",
      "Sushant has more characters than Raina\n"
     ]
    }
   ],
   "source": [
    "#if elif else\n",
    "a = input('Enter a name')\n",
    "b = input('Enter a name')\n",
    "if len(b) > len(a):\n",
    "  print(b,\"has more characters than\",a)\n",
    "if len(a) > len(b):\n",
    "  print(a,\"has more characters than\",b)\n",
    "elif len(a) == len(b):\n",
    "  print(\"both names have equal number of characters\")"
   ]
  },
  {
   "cell_type": "code",
   "execution_count": 23,
   "id": "4af6050c",
   "metadata": {},
   "outputs": [
    {
     "name": "stdout",
     "output_type": "stream",
     "text": [
      "Your favourite fruitOrange\n",
      "O\n",
      "r\n",
      "a\n",
      "n\n",
      "g\n",
      "e\n"
     ]
    }
   ],
   "source": [
    "#user defined functions with for loop\n",
    "def get_name(fruit_name):\n",
    "    for i in fruit_name:\n",
    "-        print(i)\n",
    "get_name(input('Your favourite fruit'))"
   ]
  },
  {
   "cell_type": "code",
   "execution_count": 57,
   "id": "8c02aaf9",
   "metadata": {},
   "outputs": [
    {
     "name": "stdout",
     "output_type": "stream",
     "text": [
      "Enter your favourite fruit without commaskiwi apple mangosteen\n",
      "kiwi is a small fruit\n",
      "apple is a medium fruit\n",
      "mangosteen is a big fruit\n"
     ]
    }
   ],
   "source": [
    "#user defined functions with for loop and if loop\n",
    "def get_name(a):\n",
    "    a = a.split()\n",
    "    for i in range(0,len(a)):\n",
    "        if len(a[i]) < 5:\n",
    "            print(a[i],'is a small fruit')\n",
    "        if len(a[i]) == 5:\n",
    "            print(a[i],'is a medium fruit')\n",
    "        elif len(a[i]) > 5:\n",
    "            print(a[i],'is a big fruit')\n",
    "get_name(input('Enter your favourite fruit without commas'))"
   ]
  },
  {
   "cell_type": "code",
   "execution_count": 117,
   "id": "7801e75b",
   "metadata": {},
   "outputs": [
    {
     "name": "stdout",
     "output_type": "stream",
     "text": [
      "The sum is 20\n",
      "Sum greater than 10\n"
     ]
    }
   ],
   "source": [
    "#user defined functions without for loop, if loop\n",
    "def editnum(number1,number2,number3):\n",
    "    total=(number1+number2+number3)\n",
    "    print('The sum is',total)\n",
    "    if total < 10:\n",
    "        print('Sum lesser than 10')\n",
    "    elif total > 10:\n",
    "        print('Sum greater than 10')\n",
    "editnum(7,10,3)"
   ]
  },
  {
   "cell_type": "code",
   "execution_count": 44,
   "id": "72773cbd",
   "metadata": {},
   "outputs": [
    {
     "name": "stdout",
     "output_type": "stream",
     "text": [
      "1 2 3 4 6 7 8 9 11 12 13 14 16 17 18 "
     ]
    }
   ],
   "source": [
    "#break\n",
    "for i in range(1,21):\n",
    "        if i== 19:\n",
    "            break\n",
    "        if i in (5,10,15):\n",
    "            continue\n",
    "        else:\n",
    "            print(i,end=' ')"
   ]
  },
  {
   "cell_type": "code",
   "execution_count": 22,
   "id": "0b1b75bd",
   "metadata": {},
   "outputs": [
    {
     "name": "stdout",
     "output_type": "stream",
     "text": [
      "1,2,3,4,5,6,7,8,9,11,12,13,14,15,16,17,18,19,"
     ]
    }
   ],
   "source": [
    "#continue\n",
    "for i in range(1,21):\n",
    "    if i%10==0:\n",
    "        continue\n",
    "    print(i,end=',')"
   ]
  },
  {
   "cell_type": "code",
   "execution_count": 21,
   "id": "d25ab5bf",
   "metadata": {},
   "outputs": [
    {
     "name": "stdout",
     "output_type": "stream",
     "text": [
      "10 8 6 4 2 "
     ]
    }
   ],
   "source": [
    "#for loop with in operator(iterates value in range)\n",
    "for i in range(10,1,-2):\n",
    "    print(i,end=\" \")\n"
   ]
  },
  {
   "cell_type": "code",
   "execution_count": 27,
   "id": "7e32c11d",
   "metadata": {},
   "outputs": [
    {
     "name": "stdout",
     "output_type": "stream",
     "text": [
      "0 fizzbuzz,1 - 2 - 3 fizz;4 - 5 buzz;6 fizz;7 - 8 - 9 fizz;10 buzz;11 - 12 fizz;13 - 14 - 15 fizzbuzz,16 - 17 - 18 fizz;19 - "
     ]
    }
   ],
   "source": [
    "#for loop with if statement\n",
    "for i in range(20):\n",
    "    if i % 3 == 0 and  i % 5 == 0:\n",
    "        print(i,'fizzbuzz',end=',')\n",
    "    elif i % 3 == 0:\n",
    "        print(i,'fizz',end=';')\n",
    "    elif i % 5 == 0:\n",
    "        print(i,'buzz',end=';')\n",
    "    else:\n",
    "        print(i,'-',end=' ')"
   ]
  },
  {
   "cell_type": "code",
   "execution_count": 39,
   "id": "ce401201",
   "metadata": {},
   "outputs": [
    {
     "name": "stdout",
     "output_type": "stream",
     "text": [
      "0 1 2 3 4 6 7 8 9 11 12 13 14 16 17 18 19 21 22 23 24 26 27 28 29 30 31 32 33 34 35 36 37 38 39 40 41 42 43 44 45 46 47 48 49 50 "
     ]
    }
   ],
   "source": [
    "#for loop with not in operator\n",
    "a_List = (51)\n",
    "\n",
    "for a in range (a_List):\n",
    "    if a not in (5,10,15,20,25):\n",
    "         print (a,end=\" \")"
   ]
  },
  {
   "cell_type": "code",
   "execution_count": 9,
   "id": "b69d9bcb",
   "metadata": {},
   "outputs": [
    {
     "name": "stdout",
     "output_type": "stream",
     "text": [
      "Enter VegetablenameCARROT\n",
      "CARROT Available\n"
     ]
    }
   ],
   "source": [
    "#if with in operator\n",
    "Veggies=('Carrot','Radish','Tomato','Ladiesfinger')\n",
    "x=input('Enter Vegetablename')\n",
    "if x.capitalize() in Veggies:\n",
    "    print(x,'Available')\n",
    "else:\n",
    "    print(x,'Not available')"
   ]
  },
  {
   "cell_type": "code",
   "execution_count": 11,
   "id": "ab21b63e",
   "metadata": {
    "scrolled": true
   },
   "outputs": [
    {
     "name": "stdout",
     "output_type": "stream",
     "text": [
      "Enter VegetablenameCauliflower\n",
      "Cauliflower Not Available\n"
     ]
    }
   ],
   "source": [
    "#if with not in opearator\n",
    "Veggies=('CARROT','RADISH','TOMATO','LADIESFINGER')\n",
    "x=input('Enter Vegetablename')\n",
    "if x.upper() not in Veggies:\n",
    "    print(x,'Not Available')\n",
    "else:\n",
    "    print(x,'Available')"
   ]
  },
  {
   "cell_type": "code",
   "execution_count": 24,
   "id": "e6bc436f",
   "metadata": {},
   "outputs": [
    {
     "name": "stdout",
     "output_type": "stream",
     "text": [
      "Enter (yes/maybe/nomaybe\n",
      "do you want to reconsider?\n"
     ]
    }
   ],
   "source": [
    "choice=input('Enter (yes/maybe/no')\n",
    "x=choice.split()\n",
    "for i in x:\n",
    "    if (i)=='no':\n",
    "        print('terminating program')\n",
    "        break\n",
    "    if i=='maybe':\n",
    "        print('do you want to reconsider?')\n",
    "    else:\n",
    "        print('Proceed')"
   ]
  },
  {
   "cell_type": "code",
   "execution_count": null,
   "id": "c16bf8d3",
   "metadata": {},
   "outputs": [],
   "source": []
  }
 ],
 "metadata": {
  "kernelspec": {
   "display_name": "Python 3",
   "language": "python",
   "name": "python3"
  },
  "language_info": {
   "codemirror_mode": {
    "name": "ipython",
    "version": 3
   },
   "file_extension": ".py",
   "mimetype": "text/x-python",
   "name": "python",
   "nbconvert_exporter": "python",
   "pygments_lexer": "ipython3",
   "version": "3.8.8"
  }
 },
 "nbformat": 4,
 "nbformat_minor": 5
}
