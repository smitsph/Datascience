{
 "cells": [
  {
   "cell_type": "markdown",
   "metadata": {
    "id": "ZoX1vsne78hk"
   },
   "source": [
    "**Write a program to make a calculator which perform operations like Addition , Subtraction , Multiplication etc on Two numbers input by the user.**"
   ]
  },
  {
   "cell_type": "markdown",
   "metadata": {},
   "source": [
    "#### The objective of this project is to build a calculator which performs basic operations, based on 2 user input values.\n",
    "        The two input values are x and y. \n",
    "        First a user defined function for each operation has been created which returns the corresponding operation results\n",
    "        The operator input options availabe to the user is displayed for choosing options.\n",
    "        User input values:Choice of operation and 2 parameter values (number1,number2) required for executing the function.\n",
    "        The print statement calls the respective user defined function, based on above inputs from user.\n",
    "        A total of nine operation choices have been provided.\n",
    "        The chosen parameters and operation results are displayed as output."
   ]
  },
  {
   "cell_type": "code",
   "execution_count": 27,
   "metadata": {
    "id": "6Sy0uQp78Y8p"
   },
   "outputs": [
    {
     "name": "stdout",
     "output_type": "stream",
     "text": [
      "Select operation. 1.Add 2.Subtract 3.Multiply 4.Divide 5.Powerof 6.Percentage 7.Square of 8.Squareroot of 9.Mod of\n",
      "Enter your choice(1/2/3/4/5/6/7/8/9): 1\n",
      "Enter first number: 13.5\n",
      "Enter second number: 5\n",
      "13.5 + 5.0 = 18.5\n"
     ]
    }
   ],
   "source": [
    "def add(x,y):\n",
    "    return x + y\n",
    "def subtract(x,y):\n",
    "    return x - y\n",
    "def multiply(x,y):\n",
    "    return x * y\n",
    "def divide(x,y):\n",
    "    return x / y\n",
    "def powerof(x,y):\n",
    "    return x**y\n",
    "def percentage(x,y):\n",
    "    return x * (y/100)\n",
    "def square(x):\n",
    "    return x*x\n",
    "def squareroot(x):\n",
    "    return x**0.5\n",
    "def mod(x,y):\n",
    "    return x % y\n",
    "print(\"Select operation.\",\"1.Add\",\"2.Subtract\",\"3.Multiply\",\"4.Divide\",\"5.Powerof\",\"6.Percentage\",\"7.Square of\",\"8.Squareroot of\",\"9.Mod of\")\n",
    "while True:\n",
    "    choice = input(\"Enter your choice(1/2/3/4/5/6/7/8/9): \")\n",
    "    if choice in ('1', '2', '3', '4','5','6','7','8','9'):\n",
    "        number1 = float(input(\"Enter first number: \"))\n",
    "        number2 = float(input(\"Enter second number: \"))\n",
    "        if choice == '1':\n",
    "           print(number1, \"+\", number2, \"=\", add(number1, number2))\n",
    "        elif choice == '2':\n",
    "           print(number1, \"-\", number2, \"=\", subtract(number1, number2))\n",
    "        elif choice == '3':\n",
    "           print(number1, \"*\", number2, \"=\", multiply(number1, number2))\n",
    "        elif choice == '4':\n",
    "           print(number1, \"/\", number2, \"=\", divide(number1, number2))\n",
    "        elif choice == '5':\n",
    "           print(number1, \"^\", number2, \"=\", powerof(number1, number2))\n",
    "        elif choice == '6':\n",
    "           print(number1, \"%\", number2, \"=\", percentage(number1, number2))\n",
    "        elif choice == '7':\n",
    "           print(number1,\"x^2\", \"=\", square(number1))\n",
    "        elif choice == '8':\n",
    "           print(\"√\",number1, \"=\", squareroot(number1))\n",
    "        elif choice == '9':\n",
    "           print( \"(%) of\", number1, \"and\", number2, \"=\", mod(number1, number2))\n",
    "        break\n",
    "    else:\n",
    "        print(\"Entered input is invalid\")"
   ]
  }
 ],
 "metadata": {
  "colab": {
   "authorship_tag": "ABX9TyNe8YZD5btoP1UW6AbLYric",
   "name": "Untitled0.ipynb",
   "provenance": []
  },
  "kernelspec": {
   "display_name": "Python 3",
   "language": "python",
   "name": "python3"
  },
  "language_info": {
   "codemirror_mode": {
    "name": "ipython",
    "version": 3
   },
   "file_extension": ".py",
   "mimetype": "text/x-python",
   "name": "python",
   "nbconvert_exporter": "python",
   "pygments_lexer": "ipython3",
   "version": "3.8.8"
  }
 },
 "nbformat": 4,
 "nbformat_minor": 1
}
