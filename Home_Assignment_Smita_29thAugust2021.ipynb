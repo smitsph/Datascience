{
 "cells": [
  {
   "cell_type": "markdown",
   "id": "kYah-hBK3ekc",
   "metadata": {
    "id": "kYah-hBK3ekc"
   },
   "source": [
    "#### 1) Count words and characters in below string (excluding space):\n",
    "#### mainString = 'Data Science 2021 batch'"
   ]
  },
  {
   "cell_type": "code",
   "execution_count": 29,
   "id": "soGknXal3dD1",
   "metadata": {
    "id": "soGknXal3dD1"
   },
   "outputs": [
    {
     "data": {
      "text/plain": [
       "20"
      ]
     },
     "execution_count": 29,
     "metadata": {},
     "output_type": "execute_result"
    }
   ],
   "source": [
    "mainString = 'Data Science 2021 batch' \n",
    "def remove(string):\n",
    "    return string.replace(\" \", \"\")\n",
    "len(remove(mainString))"
   ]
  },
  {
   "cell_type": "markdown",
   "id": "Erac5wZp3zZK",
   "metadata": {
    "id": "Erac5wZp3zZK"
   },
   "source": [
    "#### 2) Extract mobile number from the given string :\n",
    "#### mainString = 'My number is 8888888888'\n"
   ]
  },
  {
   "cell_type": "code",
   "execution_count": 36,
   "id": "fsHkWnOd3406",
   "metadata": {
    "id": "fsHkWnOd3406"
   },
   "outputs": [
    {
     "name": "stdout",
     "output_type": "stream",
     "text": [
      "[8888888888]\n"
     ]
    },
    {
     "data": {
      "text/plain": [
       "list"
      ]
     },
     "execution_count": 36,
     "metadata": {},
     "output_type": "execute_result"
    }
   ],
   "source": [
    "#2a First method\n",
    "mainString = 'My number is 8888888888'\n",
    "res = [int(i) for i in mainString.split() if i.isdigit()]\n",
    "print(res)\n",
    "type(res)"
   ]
  },
  {
   "cell_type": "code",
   "execution_count": 35,
   "id": "96e3f8f2",
   "metadata": {},
   "outputs": [
    {
     "name": "stdout",
     "output_type": "stream",
     "text": [
      "888888888\n"
     ]
    },
    {
     "data": {
      "text/plain": [
       "str"
      ]
     },
     "execution_count": 35,
     "metadata": {},
     "output_type": "execute_result"
    }
   ],
   "source": [
    "#2b Alternate method\n",
    "mainString = 'My number is 8888888888'\n",
    "x=(mainString[14:])\n",
    "print(x)\n",
    "type(x)"
   ]
  },
  {
   "cell_type": "markdown",
   "id": "Q7x_9WH1397D",
   "metadata": {
    "id": "Q7x_9WH1397D"
   },
   "source": [
    "#### 3) Extract email address :\n",
    "#### mainString = 'My email is  abc@g.com\n"
   ]
  },
  {
   "cell_type": "code",
   "execution_count": 38,
   "id": "GrWs94rl4ATb",
   "metadata": {
    "id": "GrWs94rl4ATb"
   },
   "outputs": [
    {
     "name": "stdout",
     "output_type": "stream",
     "text": [
      "abc@g.com\n"
     ]
    }
   ],
   "source": [
    "mainString = 'My email is abc@g.com'\n",
    "print(mainString[12:])"
   ]
  },
  {
   "cell_type": "markdown",
   "id": "amWc7SGL4Cli",
   "metadata": {
    "id": "amWc7SGL4Cli"
   },
   "source": [
    "#### 4) Fibonacci series for 10 numbers"
   ]
  },
  {
   "cell_type": "code",
   "execution_count": 8,
   "id": "umeq0sRg4C3T",
   "metadata": {
    "id": "umeq0sRg4C3T"
   },
   "outputs": [
    {
     "name": "stdout",
     "output_type": "stream",
     "text": [
      "0 1 1 2 3 5 8 13 21 34 "
     ]
    },
    {
     "data": {
      "text/plain": [
       "21"
      ]
     },
     "execution_count": 8,
     "metadata": {},
     "output_type": "execute_result"
    }
   ],
   "source": [
    "def fib_series(n):\n",
    "    a=1\n",
    "    b=1\n",
    "    if n==1:\n",
    "        print('0')\n",
    "    elif n==2:\n",
    "        print('0','1')\n",
    "    else:\n",
    "        print('0',a,b,end=' ')\n",
    "        for i in range(n-3):\n",
    "            total = a + b\n",
    "            b=a\n",
    "            a= total\n",
    "            print(total,end=' ')\n",
    "            return b\n",
    "fib_series(10)"
   ]
  },
  {
   "cell_type": "markdown",
   "id": "alKtm12F4IYk",
   "metadata": {
    "id": "alKtm12F4IYk"
   },
   "source": [
    "#### 5) Remove a value from string by taking index from the user\n",
    "##### example :\n",
    "##### stringName = \"Hello Participants 2020\"\n",
    "##### index = 2\n",
    "##### output : \"Helo Participants 2020\"\n"
   ]
  },
  {
   "cell_type": "code",
   "execution_count": 15,
   "id": "gj8BXNvd4I07",
   "metadata": {
    "id": "gj8BXNvd4I07"
   },
   "outputs": [
    {
     "name": "stdout",
     "output_type": "stream",
     "text": [
      "Select digit number to be removed7\n",
      "This nuber\n"
     ]
    }
   ],
   "source": [
    "#5a\n",
    "stringName='This number'\n",
    "ind_number= int(input('Select digit number to be removed'))\n",
    "removed=stringName.replace(stringName[ind_number],\"\")\n",
    "print(removed)"
   ]
  },
  {
   "cell_type": "code",
   "execution_count": 30,
   "id": "1b303388",
   "metadata": {},
   "outputs": [
    {
     "name": "stdout",
     "output_type": "stream",
     "text": [
      "Enter index number3\n",
      "Thi is homework\n"
     ]
    }
   ],
   "source": [
    "##5(b) the replace code in the above cell does not work if we have repitition of characters\n",
    "# in the following code that proble is resolved by concatenating the values before the \n",
    "# index and after the indexvalue provided by the user.\n",
    "stringName1='This is homework'\n",
    "index = int(input('Enter index number'))\n",
    "if len(stringName1) > index:\n",
    "    stringName2 = stringName1[0 : index : ] + stringName1[index + 1 : :]\n",
    "    print(stringName2)"
   ]
  },
  {
   "cell_type": "markdown",
   "id": "6e1091cd",
   "metadata": {
    "id": "6e1091cd"
   },
   "source": [
    "#### 6)\tWrite a program, which takes two inputs as ‘start’ and ‘end’ from the user, and you have to print prime numbers between the defined range and also the sum of all those prime numbers too.\n"
   ]
  },
  {
   "cell_type": "code",
   "execution_count": 18,
   "id": "cyQzveZL3Juh",
   "metadata": {
    "id": "cyQzveZL3Juh"
   },
   "outputs": [
    {
     "name": "stdout",
     "output_type": "stream",
     "text": [
      "Enter a start range1\n",
      "Enter an end range10\n",
      "Prime numbers between 1 and 10 are:\n",
      "2\n",
      "3\n",
      "5\n",
      "7\n"
     ]
    }
   ],
   "source": [
    "lower = int(input('Enter a start range'))\n",
    "upper = int(input('Enter an end range'))\n",
    "\n",
    "print(\"Prime numbers between\", lower, \"and\", upper, \"are:\")\n",
    "\n",
    "for num in range(lower, upper + 1):\n",
    "   if num > 1:\n",
    "       for i in range(2, num):\n",
    "           if (num % i) == 0:\n",
    "               break\n",
    "       else:\n",
    "           print(num)"
   ]
  },
  {
   "cell_type": "code",
   "execution_count": 19,
   "id": "e553ead9",
   "metadata": {},
   "outputs": [
    {
     "name": "stdout",
     "output_type": "stream",
     "text": [
      "Enter a start range1\n",
      "Enter an end range10\n",
      " 2   3   5   7  \n",
      "\n",
      "Sum of Prime Numbers from 1 to 10 = 17\n"
     ]
    }
   ],
   "source": [
    "lower = int(input('Enter a start range'))\n",
    "upper = int(input('Enter an end range'))\n",
    "total = 0\n",
    "\n",
    "for num in range (lower, upper + 1):\n",
    "    count = 0\n",
    "    for i in range(2, (num//2 + 1)):\n",
    "        if(num % i == 0):\n",
    "            count = count + 1\n",
    "            break\n",
    "\n",
    "    if (count == 0 and num != 1):\n",
    "        print(\" %d\" %num, end = '  ')\n",
    "        total = total + num\n",
    "\n",
    "print(\"\\nSum of Prime Numbers from %d to %d = %d\" %(lower, upper, total))"
   ]
  },
  {
   "cell_type": "markdown",
   "id": "f656ddf1",
   "metadata": {
    "id": "f656ddf1"
   },
   "source": [
    "#### 7)\tWrite a program which takes a string from the user and you have to check whether that string is palindrome or not.\n"
   ]
  },
  {
   "cell_type": "code",
   "execution_count": 47,
   "id": "e4B_0LZy3LBz",
   "metadata": {
    "id": "e4B_0LZy3LBz"
   },
   "outputs": [
    {
     "name": "stdout",
     "output_type": "stream",
     "text": [
      "Palindrome to be checked:noon\n",
      "It is a palindrome\n"
     ]
    }
   ],
   "source": [
    "#If you say a string is a palindrome, it means the string has the same meaning even after reversing the string. There are several string palindromes which you can use to check whether their meanilindrome or not using Python programming language, you just have to follow these four easy steps.\n",
    "#Step 1st: Finding the reverse of the given string using function.\n",
    "#Step 2nd: Calling the function.\n",
    "#Step 3rd: Comparing the reversed string with the original string to check whether they have the same meaning or not.\n",
    "#Step 4th: Printing the result.\n",
    "\n",
    "def reverse(string):\n",
    "  return string[::-1]\n",
    "\n",
    "def isPalindrome(string): \n",
    "  r = reverse(string) \n",
    "  if (string == r):      \n",
    "    return True \n",
    "    return False\n",
    "\n",
    "string = input('Palindrome to be checked:')\n",
    "result = isPalindrome(string.upper())\n",
    "if result == 1:   \n",
    "    print('It is a palindrome')\n",
    "else:   \n",
    "    print('It is not a palindrome')"
   ]
  },
  {
   "cell_type": "markdown",
   "id": "ede452a4",
   "metadata": {
    "id": "ede452a4"
   },
   "source": [
    "#### 8)\tWrite a program which takes 5 numbers as input from the user and you have to create a dictionary which stores those numbers as keys and their squared result as values of those keys."
   ]
  },
  {
   "cell_type": "code",
   "execution_count": 88,
   "id": "79e08f7f",
   "metadata": {
    "scrolled": true
   },
   "outputs": [
    {
     "name": "stdout",
     "output_type": "stream",
     "text": [
      "Enter num12\n",
      "Enter num23\n",
      "Enter num34\n",
      "Enter num45\n",
      "Enter num56\n",
      "{2: 4, 3: 9, 4: 16, 5: 25, 6: 36}\n"
     ]
    }
   ],
   "source": [
    "#8a\n",
    "num1=int(input('Enter num1'))\n",
    "num2=int(input('Enter num2'))\n",
    "num3=int(input('Enter num3'))\n",
    "num4=int(input('Enter num4'))\n",
    "num5=int(input('Enter num5'))\n",
    "myDict = {x: x**2 for x in [num1,num2,num3,num4,num5]}\n",
    "print (myDict)"
   ]
  },
  {
   "cell_type": "code",
   "execution_count": 33,
   "id": "13432ebb",
   "metadata": {},
   "outputs": [
    {
     "name": "stdout",
     "output_type": "stream",
     "text": [
      "How many numbers: 5\n",
      "Enter number 2\n",
      "Enter number 4\n",
      "Enter number 6\n",
      "Enter number 8\n",
      "Enter number 10\n",
      "{2: 4, 4: 16, 6: 36, 8: 64, 10: 100}\n"
     ]
    }
   ],
   "source": [
    "##8b Alternate method\n",
    "lst1 = []\n",
    "num1 = int(input('How many numbers: '))\n",
    "for n1 in range(num1):\n",
    "    numbers1 = int(input('Enter number '))\n",
    "    lst1.append(numbers1)\n",
    "myDict1 = {x1: x1**2 for x1 in lst1}\n",
    "print (myDict1)"
   ]
  },
  {
   "cell_type": "markdown",
   "id": "44c14e0e",
   "metadata": {
    "id": "44c14e0e"
   },
   "source": [
    "#### 9)\tWrite a program which takes a number from the user and the output should be the factorial of that number. Solve this question using a loop.\n",
    "\n"
   ]
  },
  {
   "cell_type": "code",
   "execution_count": 92,
   "id": "5ld-78U53NH8",
   "metadata": {
    "id": "5ld-78U53NH8"
   },
   "outputs": [
    {
     "name": "stdout",
     "output_type": "stream",
     "text": [
      "Enter a number: 6\n",
      "Factorial of  6  is :  720\n"
     ]
    }
   ],
   "source": [
    "usrnum = input(\"Enter a number: \")\n",
    "factorial = 1\n",
    "if int(usrnum) >= 1:\n",
    "    for i in range (1,int(usrnum)+1):\n",
    "       factorial = factorial * i\n",
    "print(\"Factorial of \",usrnum, \" is : \",factorial)"
   ]
  },
  {
   "cell_type": "markdown",
   "id": "8ffaa44c",
   "metadata": {
    "id": "8ffaa44c"
   },
   "source": [
    "#### 10)\tWrite a program which asks a user every time whether he wants to enter a number or not, if the user enters ‘yes’, then take an input and print the sum of all numbers that he has given till now, otherwise end the program."
   ]
  },
  {
   "cell_type": "code",
   "execution_count": 25,
   "id": "bde87edc",
   "metadata": {},
   "outputs": [
    {
     "name": "stdout",
     "output_type": "stream",
     "text": [
      "YOUR CHOICE IS YES/NOYES\n",
      "How many numbers: 4\n",
      "Enter number 3\n",
      "Enter number 4\n",
      "Enter number 5\n",
      "Enter number 7\n",
      "Sum of elements in given list is : 19\n"
     ]
    }
   ],
   "source": [
    "CHOICE=input('YOUR CHOICE IS YES/NO')\n",
    "x=CHOICE.lower()\n",
    "if x=='no':\n",
    "    print('Choice is No') \n",
    "else:\n",
    "    if x=='yes':    \n",
    "        lst = []\n",
    "        num = int(input('How many numbers: '))\n",
    "        for n in range(num):\n",
    "            numbers = int(input('Enter number '))\n",
    "            lst.append(numbers)\n",
    "        print(\"Sum of elements in given list is :\", sum(lst))"
   ]
  }
 ],
 "metadata": {
  "colab": {
   "name": "Home_Assignment-1.ipynb",
   "provenance": []
  },
  "kernelspec": {
   "display_name": "Python 3",
   "language": "python",
   "name": "python3"
  },
  "language_info": {
   "codemirror_mode": {
    "name": "ipython",
    "version": 3
   },
   "file_extension": ".py",
   "mimetype": "text/x-python",
   "name": "python",
   "nbconvert_exporter": "python",
   "pygments_lexer": "ipython3",
   "version": "3.8.8"
  }
 },
 "nbformat": 4,
 "nbformat_minor": 5
}
