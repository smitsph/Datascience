{
 "cells": [
  {
   "cell_type": "markdown",
   "id": "5d4d679e",
   "metadata": {},
   "source": [
    "#### List methods"
   ]
  },
  {
   "cell_type": "code",
   "execution_count": 1,
   "id": "07354370",
   "metadata": {},
   "outputs": [],
   "source": [
    "List1=[22,34,56,45,74]\n",
    "List2=['Marigold','Rose','Lily','Hollyhocks','Chrysanthamum']"
   ]
  },
  {
   "cell_type": "code",
   "execution_count": null,
   "id": "bb3a5169",
   "metadata": {},
   "outputs": [],
   "source": [
    "Method\tDescription\n",
    "append()\tAdds an element at the end of the list\n",
    "clear()\tRemoves all the elements from the list\n",
    "copy()\tReturns a copy of the list\n",
    "count()\tReturns the number of elements with the specified value\n",
    "extend()\tAdd the elements of a list (or any iterable), to the end of the current list\n",
    "index()\tReturns the index of the first element with the specified value\n",
    "insert()\tAdds an element at the specified position\n",
    "pop()\tRemoves the element at the specified position\n",
    "remove()\tRemoves the first item with the specified value\n",
    "reverse()\tReverses the order of the list\n",
    "sort()\tSorts the list"
   ]
  },
  {
   "cell_type": "code",
   "execution_count": 4,
   "id": "4f642470",
   "metadata": {},
   "outputs": [
    {
     "name": "stdout",
     "output_type": "stream",
     "text": [
      "[22, 34, 56, 45, 74, '65', '65'] ['Marigold', 'Rose', 'Lily', 'Hollyhocks', 'Chrysanthamum', 'Jasmine', 'Jasmine']\n"
     ]
    }
   ],
   "source": [
    "#APPEND-- run append twice\n",
    "List1.append('65')\n",
    "List2.append('Jasmine')\n",
    "print(List1,List2)"
   ]
  },
  {
   "cell_type": "code",
   "execution_count": 7,
   "id": "504c5969",
   "metadata": {},
   "outputs": [
    {
     "name": "stdout",
     "output_type": "stream",
     "text": [
      "[] ['Marigold', 'Rose', 'Lily', 'Hollyhocks', 'Chrysanthamum']\n"
     ]
    }
   ],
   "source": [
    "#CLEAR-- \n",
    "List1.clear()\n",
    "print(List1,List2)"
   ]
  },
  {
   "cell_type": "code",
   "execution_count": 9,
   "id": "da1f71c6",
   "metadata": {},
   "outputs": [
    {
     "name": "stdout",
     "output_type": "stream",
     "text": [
      "[['Marigold', 'Rose', 'Lily', 'Hollyhocks', 'Chrysanthamum']] ['Marigold', 'Rose', 'Lily', 'Hollyhocks', 'Chrysanthamum']\n"
     ]
    }
   ],
   "source": [
    "#Copy\n",
    "List1.clear()\n",
    "List1.append(List2.copy())\n",
    "print(List1,List2)"
   ]
  },
  {
   "cell_type": "code",
   "execution_count": 11,
   "id": "c71ff4d5",
   "metadata": {},
   "outputs": [
    {
     "name": "stdout",
     "output_type": "stream",
     "text": [
      "[[22, 34, 56, 45, 74]] ['Marigold', 'Rose', 'Lily', 'Hollyhocks', 'Chrysanthamum']\n"
     ]
    }
   ],
   "source": [
    "List1.clear()\n",
    "List1.append([22, 34, 56, 45, 74])\n",
    "print(List1,List2)"
   ]
  },
  {
   "cell_type": "code",
   "execution_count": 6,
   "id": "6e45cfd3",
   "metadata": {},
   "outputs": [
    {
     "name": "stdout",
     "output_type": "stream",
     "text": [
      "[22, 34, 56, 45, 74] ['Marigold', 'Rose', 'Lily', 'Hollyhocks', 'Chrysanthamum']\n"
     ]
    }
   ],
   "source": [
    "#pop -- run pop twice\n",
    "List1.pop()\n",
    "List2.pop()\n",
    "print(List1,List2)"
   ]
  },
  {
   "cell_type": "code",
   "execution_count": 14,
   "id": "7da7af8e",
   "metadata": {},
   "outputs": [
    {
     "name": "stdout",
     "output_type": "stream",
     "text": [
      "[[22, 34, 56, 45, 74]] ['Marigold', 'Rose', 'Lily', 'Hollyhocks', 'Chrysanthamum', 'Jasmine', 'Jasmine']\n"
     ]
    }
   ],
   "source": [
    "List2.append('Jasmine')\n",
    "print(List1,List2)"
   ]
  },
  {
   "cell_type": "code",
   "execution_count": 30,
   "id": "b442303e",
   "metadata": {},
   "outputs": [
    {
     "name": "stdout",
     "output_type": "stream",
     "text": [
      "[22, 22, 22, 22, 22]\n"
     ]
    },
    {
     "data": {
      "text/plain": [
       "5"
      ]
     },
     "execution_count": 30,
     "metadata": {},
     "output_type": "execute_result"
    }
   ],
   "source": [
    "List1.append(22)\n",
    "print(List1)\n",
    "List1.count(22)"
   ]
  },
  {
   "cell_type": "code",
   "execution_count": 31,
   "id": "3f09bea5",
   "metadata": {},
   "outputs": [
    {
     "data": {
      "text/plain": [
       "(2, 5)"
      ]
     },
     "execution_count": 31,
     "metadata": {},
     "output_type": "execute_result"
    }
   ],
   "source": [
    "#count\n",
    "List2.count('Jasmine'),List1.count(22) "
   ]
  },
  {
   "cell_type": "code",
   "execution_count": 48,
   "id": "8ce8cc02",
   "metadata": {},
   "outputs": [
    {
     "name": "stdout",
     "output_type": "stream",
     "text": [
      "[['Land', 'Terrace', 'Pot', 'Bag'], 'Marigold', 'Rose', 'Lily', 'Hollyhocks', 'Chrysanthamum', 'Jasmine'] [('Marigold', 'Rose', 'Lily', 'Hollyhocks', 'Chrysanthamum', 'Jasmine')]\n"
     ]
    }
   ],
   "source": [
    "##extend\n",
    "Garden=['Land','Terrace','Pot','Bag']\n",
    "Flowers=('Marigold', 'Rose', 'Lily', 'Hollyhocks', 'Chrysanthamum', 'Jasmine')\n",
    "List2.clear()\n",
    "List1.clear()\n",
    "List1.append(Garden)\n",
    "List2.append(Flowers)## Tuple appended to list.\n",
    "List1.extend(Flowers)\n",
    "List1.count('Terrace'),List2.count('Rose')\n",
    "print(List1,List2)"
   ]
  },
  {
   "cell_type": "code",
   "execution_count": 51,
   "id": "b526d7ee",
   "metadata": {},
   "outputs": [
    {
     "name": "stdout",
     "output_type": "stream",
     "text": [
      "0\n"
     ]
    }
   ],
   "source": [
    "print(List2.index(('Marigold', 'Rose', 'Lily', 'Hollyhocks', 'Chrysanthamum', 'Jasmine')))"
   ]
  },
  {
   "cell_type": "code",
   "execution_count": 59,
   "id": "4a37ea44",
   "metadata": {},
   "outputs": [
    {
     "name": "stdout",
     "output_type": "stream",
     "text": [
      "1\n"
     ]
    }
   ],
   "source": [
    "#print(List2.index((0,3))\n",
    "print(List1.index('Marigold'))"
   ]
  },
  {
   "cell_type": "code",
   "execution_count": 63,
   "id": "55e849c8",
   "metadata": {},
   "outputs": [
    {
     "name": "stdout",
     "output_type": "stream",
     "text": [
      "[['Land', 'Terrace', 'Pot', 'Bag'], 'Marigold', 'Rose', 'Star Lily', 'Lily', 'Hollyhocks', 'Chrysanthamum', 'Jasmine']\n"
     ]
    }
   ],
   "source": [
    "List1.insert(3,'Star Lily')\n",
    "print(List1)"
   ]
  },
  {
   "cell_type": "code",
   "execution_count": 64,
   "id": "72892352",
   "metadata": {},
   "outputs": [
    {
     "name": "stdout",
     "output_type": "stream",
     "text": [
      "['Marigold', 'Rose', 'Star Lily', 'Lily', 'Hollyhocks', 'Chrysanthamum', 'Jasmine']\n"
     ]
    }
   ],
   "source": [
    "List1.pop(0)\n",
    "print(List1)"
   ]
  },
  {
   "cell_type": "code",
   "execution_count": 70,
   "id": "7e01f7b8",
   "metadata": {},
   "outputs": [
    {
     "name": "stdout",
     "output_type": "stream",
     "text": [
      "2\n",
      "['Marigold', 'Rose', 'Star Lily', 'Lily', 'Hollyhocks', 'Chrysanthamum', 'Jasmine']\n"
     ]
    }
   ],
   "source": [
    "List1.reverse() # index value changes too\n",
    "print(List1.index('Star Lily'))\n",
    "print(List1)"
   ]
  },
  {
   "cell_type": "code",
   "execution_count": 73,
   "id": "d0a812df",
   "metadata": {},
   "outputs": [
    {
     "name": "stdout",
     "output_type": "stream",
     "text": [
      "['Rose', 'Lily', 'Jasmine', 'Marigold', 'Hollyhocks', 'Chrysanthamum']\n"
     ]
    }
   ],
   "source": [
    "##sort\n",
    "def myFunc(e):\n",
    "  return len(e)\n",
    "\n",
    "Flowers=['Marigold', 'Rose', 'Lily', 'Hollyhocks', 'Chrysanthamum', 'Jasmine']\n",
    "\n",
    "Flowers.sort(key=myFunc)\n",
    "\n",
    "print(Flowers)"
   ]
  },
  {
   "cell_type": "markdown",
   "id": "c3a9d2b4",
   "metadata": {},
   "source": [
    "#### Tuple methods"
   ]
  },
  {
   "cell_type": "code",
   "execution_count": null,
   "id": "b8bf5f7f",
   "metadata": {},
   "outputs": [],
   "source": [
    "count()\tReturns the number of times a specified value occurs in a tuple\n",
    "index()\tSearches the tuple for a specified value and returns the position of where it was found"
   ]
  },
  {
   "cell_type": "code",
   "execution_count": 75,
   "id": "66db57f3",
   "metadata": {},
   "outputs": [
    {
     "data": {
      "text/plain": [
       "2"
      ]
     },
     "execution_count": 75,
     "metadata": {},
     "output_type": "execute_result"
    }
   ],
   "source": [
    "Flowers=['Marigold', 'Rose', 'Lily', 'Hollyhocks', 'Chrysanthamum', 'Jasmine','Lily']\n",
    "Flowers.count('Lily')"
   ]
  },
  {
   "cell_type": "code",
   "execution_count": 76,
   "id": "1faaf319",
   "metadata": {},
   "outputs": [
    {
     "data": {
      "text/plain": [
       "2"
      ]
     },
     "execution_count": 76,
     "metadata": {},
     "output_type": "execute_result"
    }
   ],
   "source": [
    "Flowers=['Marigold', 'Rose', 'Lily', 'Hollyhocks', 'Chrysanthamum', 'Jasmine','Lily']\n",
    "Flowers.index('Lily') ##first position only"
   ]
  },
  {
   "cell_type": "markdown",
   "id": "6975e9f2",
   "metadata": {},
   "source": [
    "#### Set Methods\n",
    "    add()\tAdds an element to the set\n",
    "    clear()\tRemoves all the elements from the set\n",
    "    copy()\tReturns a copy of the set\n",
    "    difference()\tReturns a set containing the difference between two or more sets\n",
    "    difference_update()\tRemoves the items in this set that are also included in another, specified set\n",
    "    discard()\tRemove the specified item\n",
    "    intersection()\tReturns a set, that is the intersection of two or more sets\n",
    "    intersection_update()\tRemoves the items in this set that are not present in other, specified set(s)\n",
    "    isdisjoint()\tReturns whether two sets have a intersection or not\n",
    "    issubset()\tReturns whether another set contains this set or not\n",
    "    issuperset()\tReturns whether this set contains another set or not\n",
    "    pop()\tRemoves an element from the set\n",
    "    remove()\tRemoves the specified element\n",
    "    symmetric_difference()\tReturns a set with the symmetric differences of two sets\n",
    "    symmetric_difference_update()\tinserts the symmetric differences from this set and another\n",
    "    union()\tReturn a set containing the union of sets\n",
    "    4update()\tUpdate the set with another set, or any other iterable"
   ]
  },
  {
   "cell_type": "code",
   "execution_count": 3,
   "id": "cb573ec7",
   "metadata": {},
   "outputs": [
    {
     "data": {
      "text/plain": [
       "set"
      ]
     },
     "execution_count": 3,
     "metadata": {},
     "output_type": "execute_result"
    }
   ],
   "source": [
    "Gods={'Krishna','Muhammad','Jesus','Nanak','Zarathustra'}\n",
    "type(Gods)"
   ]
  },
  {
   "cell_type": "code",
   "execution_count": 6,
   "id": "25743378",
   "metadata": {},
   "outputs": [
    {
     "name": "stdout",
     "output_type": "stream",
     "text": [
      "{'Jesus', 'Zarathustra', 'Muhammad', 'Krishna', 'Nanak', 'Sai'}\n"
     ]
    }
   ],
   "source": [
    "#If the element already exists, the add() method does not add the element.\n",
    "Gods.add('Sai')\n",
    "Gods.add('Muhammad')\n",
    "print(Gods)"
   ]
  },
  {
   "cell_type": "code",
   "execution_count": 8,
   "id": "ae4a1e0a",
   "metadata": {},
   "outputs": [
    {
     "name": "stdout",
     "output_type": "stream",
     "text": [
      "set()\n",
      "{'Krishna'}\n"
     ]
    }
   ],
   "source": [
    "#The clear() method removes all elements in a set.\n",
    "Gods.clear()\n",
    "print(Gods)\n",
    "Gods.add('Krishna')\n",
    "print(Gods)"
   ]
  },
  {
   "cell_type": "code",
   "execution_count": 10,
   "id": "44584740",
   "metadata": {},
   "outputs": [
    {
     "name": "stdout",
     "output_type": "stream",
     "text": [
      "{'Krishna'}\n"
     ]
    }
   ],
   "source": [
    "#copy\n",
    "Gods1=Gods.copy()\n",
    "print(Gods1)"
   ]
  },
  {
   "cell_type": "code",
   "execution_count": null,
   "id": "5b6a84fa",
   "metadata": {},
   "outputs": [],
   "source": [
    "Gods1.add('Zarathustra')"
   ]
  },
  {
   "cell_type": "code",
   "execution_count": 19,
   "id": "32c71a09",
   "metadata": {},
   "outputs": [],
   "source": [
    "Tariff={0.5,12.2,13,15,23}\n",
    "Tariff1={3,12.2,13,7.4,34}"
   ]
  },
  {
   "cell_type": "code",
   "execution_count": 18,
   "id": "97156863",
   "metadata": {},
   "outputs": [
    {
     "name": "stdout",
     "output_type": "stream",
     "text": [
      "{0.5, 23, 15}\n"
     ]
    }
   ],
   "source": [
    "Diff=Tariff.difference(Tariff1)\n",
    "print(Diff)"
   ]
  },
  {
   "cell_type": "code",
   "execution_count": 14,
   "id": "1c7c0c43",
   "metadata": {},
   "outputs": [
    {
     "name": "stdout",
     "output_type": "stream",
     "text": [
      "{34, 3, 7.4}\n"
     ]
    }
   ],
   "source": [
    "Diff=Tariff1.difference(Tariff)\n",
    "print(Diff)"
   ]
  },
  {
   "cell_type": "code",
   "execution_count": 23,
   "id": "cbcbd1ff",
   "metadata": {},
   "outputs": [
    {
     "name": "stdout",
     "output_type": "stream",
     "text": [
      "{34, 3, 7.4}\n",
      "{0.5, 12.2, 13, 15, 23}\n"
     ]
    }
   ],
   "source": [
    "Tariff1.difference_update(Tariff)\n",
    "print(Tariff1)\n",
    "print(Tariff)"
   ]
  },
  {
   "cell_type": "code",
   "execution_count": 24,
   "id": "ddea346f",
   "metadata": {},
   "outputs": [
    {
     "name": "stdout",
     "output_type": "stream",
     "text": [
      "{0.5, 12.2, 13, 15, 23}\n",
      "{34, 3, 7.4}\n"
     ]
    }
   ],
   "source": [
    "Tariff.difference_update(Tariff1)\n",
    "print(Tariff)\n",
    "print(Tariff1)"
   ]
  },
  {
   "cell_type": "code",
   "execution_count": 25,
   "id": "a353ede2",
   "metadata": {},
   "outputs": [
    {
     "name": "stdout",
     "output_type": "stream",
     "text": [
      "{0.5, 13, 15, 23}\n"
     ]
    }
   ],
   "source": [
    "Tariff.discard(12.2)\n",
    "print(Tariff)"
   ]
  },
  {
   "cell_type": "code",
   "execution_count": 26,
   "id": "9f5054d2",
   "metadata": {},
   "outputs": [
    {
     "name": "stdout",
     "output_type": "stream",
     "text": [
      "{'Krypton'}\n"
     ]
    }
   ],
   "source": [
    "x = {\"Lithium\", \"Neon\", \"Krypton\"}\n",
    "y = {\"Krypton\", \"Gold\", \"Iron\"}\n",
    "z = {\"Iron\", \"Silver\", \"Krypton\"}\n",
    "Alloy = x.intersection(y, z)\n",
    "print(Alloy)"
   ]
  },
  {
   "cell_type": "code",
   "execution_count": 27,
   "id": "5a68d36b",
   "metadata": {},
   "outputs": [
    {
     "name": "stdout",
     "output_type": "stream",
     "text": [
      "{'Krypton'}\n"
     ]
    }
   ],
   "source": [
    "x.intersection_update(y)\n",
    "print(x)"
   ]
  },
  {
   "cell_type": "code",
   "execution_count": null,
   "id": "bda3bf02",
   "metadata": {},
   "outputs": [],
   "source": [
    "#The intersection_update() method is different from the intersection() method, because the intersection() method returns a new set, without the unwanted items, and the intersection_update() method removes the unwanted items from the original set."
   ]
  },
  {
   "cell_type": "code",
   "execution_count": 28,
   "id": "175b6975",
   "metadata": {},
   "outputs": [
    {
     "data": {
      "text/plain": [
       "False"
      ]
     },
     "execution_count": 28,
     "metadata": {},
     "output_type": "execute_result"
    }
   ],
   "source": [
    "x = {\"Lithium\", \"Neon\", \"Krypton\"}\n",
    "y = {\"Krypton\", \"Gold\", \"Iron\"}\n",
    "x.isdisjoint(y)"
   ]
  },
  {
   "cell_type": "code",
   "execution_count": 29,
   "id": "9f6c1309",
   "metadata": {},
   "outputs": [
    {
     "data": {
      "text/plain": [
       "True"
      ]
     },
     "execution_count": 29,
     "metadata": {},
     "output_type": "execute_result"
    }
   ],
   "source": [
    "x = {\"Lithium\", \"Neon\", \"Krypton\"}\n",
    "y = {\"Barium\", \"Gold\", \"Iron\"}\n",
    "x.isdisjoint(y)"
   ]
  },
  {
   "cell_type": "code",
   "execution_count": 30,
   "id": "7cc11c47",
   "metadata": {},
   "outputs": [
    {
     "data": {
      "text/plain": [
       "False"
      ]
     },
     "execution_count": 30,
     "metadata": {},
     "output_type": "execute_result"
    }
   ],
   "source": [
    "y = {\"Barium\", \"Gold\", \"Iron\"}\n",
    "z = {\"Iron\", \"Silver\", \"Krypton\"}\n",
    "y.issubset(z)"
   ]
  },
  {
   "cell_type": "code",
   "execution_count": 32,
   "id": "66984ee2",
   "metadata": {},
   "outputs": [
    {
     "data": {
      "text/plain": [
       "True"
      ]
     },
     "execution_count": 32,
     "metadata": {},
     "output_type": "execute_result"
    }
   ],
   "source": [
    "y = {\"Barium\", \"Gold\", \"Iron\"}\n",
    "z = {\"Gold\"}\n",
    "z.issubset(y)"
   ]
  },
  {
   "cell_type": "code",
   "execution_count": 36,
   "id": "1d6e154a",
   "metadata": {},
   "outputs": [
    {
     "data": {
      "text/plain": [
       "True"
      ]
     },
     "execution_count": 36,
     "metadata": {},
     "output_type": "execute_result"
    }
   ],
   "source": [
    "y = {\"Barium\", \"Gold\", \"Iron\",\"Krypton\"}\n",
    "z = {\"Iron\", \"Gold\", \"Krypton\"}\n",
    "y.issuperset(z)"
   ]
  },
  {
   "cell_type": "code",
   "execution_count": 37,
   "id": "2d37d471",
   "metadata": {},
   "outputs": [
    {
     "name": "stdout",
     "output_type": "stream",
     "text": [
      "{'Krypton', 'Iron', 'Barium'}\n"
     ]
    }
   ],
   "source": [
    "y.pop()\n",
    "print(y)"
   ]
  },
  {
   "cell_type": "code",
   "execution_count": 41,
   "id": "f6c069b6",
   "metadata": {},
   "outputs": [
    {
     "name": "stdout",
     "output_type": "stream",
     "text": [
      "{'Barium'}\n"
     ]
    }
   ],
   "source": [
    "y.pop()\n",
    "print(y)"
   ]
  },
  {
   "cell_type": "code",
   "execution_count": 42,
   "id": "0cb2b7a1",
   "metadata": {},
   "outputs": [],
   "source": [
    "x = {\"Lithium\", \"Neon\", \"Krypton\"}\n",
    "x.remove('Lithium')"
   ]
  },
  {
   "cell_type": "code",
   "execution_count": 43,
   "id": "247d32be",
   "metadata": {},
   "outputs": [
    {
     "name": "stdout",
     "output_type": "stream",
     "text": [
      "{'Krypton', 'Neon'}\n"
     ]
    }
   ],
   "source": [
    "print(x)"
   ]
  },
  {
   "cell_type": "code",
   "execution_count": 44,
   "id": "091488b3",
   "metadata": {},
   "outputs": [
    {
     "data": {
      "text/plain": [
       "{'Barium'}"
      ]
     },
     "execution_count": 44,
     "metadata": {},
     "output_type": "execute_result"
    }
   ],
   "source": [
    "y = {\"Barium\", \"Gold\", \"Iron\",\"Krypton\"}\n",
    "z = {\"Iron\", \"Gold\", \"Krypton\"}\n",
    "y.symmetric_difference(z)\n",
    "#The symmetric_difference() method returns a set that contains all items from both set, but not the items that are present in both sets."
   ]
  },
  {
   "cell_type": "code",
   "execution_count": 45,
   "id": "576d76f9",
   "metadata": {},
   "outputs": [
    {
     "data": {
      "text/plain": [
       "{'Barium'}"
      ]
     },
     "execution_count": 45,
     "metadata": {},
     "output_type": "execute_result"
    }
   ],
   "source": [
    "y = {\"Barium\", \"Gold\", \"Iron\",\"Krypton\"}\n",
    "z = {\"Iron\", \"Gold\", \"Krypton\"}\n",
    "z.symmetric_difference(y)"
   ]
  },
  {
   "cell_type": "code",
   "execution_count": 49,
   "id": "4bbce864",
   "metadata": {},
   "outputs": [
    {
     "name": "stdout",
     "output_type": "stream",
     "text": [
      "{'Silver', 'Barium', 'Iron', 'Neon'}\n"
     ]
    }
   ],
   "source": [
    "y = {\"Barium\",\"Gold\", \"Iron\"}\n",
    "z = {\"Neon\", \"Gold\", \"Silver\"}\n",
    "z.symmetric_difference_update(y)\n",
    "print(z)\n",
    "#The symmetric_difference_update() method updates the original set by removing items that are present in both sets, and inserting the other items."
   ]
  },
  {
   "cell_type": "code",
   "execution_count": 52,
   "id": "e4752e80",
   "metadata": {},
   "outputs": [
    {
     "name": "stdout",
     "output_type": "stream",
     "text": [
      "{0.5, 34, 3, 7.4, 12.2, 13, 15, 23}\n"
     ]
    }
   ],
   "source": [
    "#The union() method returns a set that contains all items from the original set, and all items from the specified set(s).\n",
    "#You can specify as many sets you want, separated by commas.\n",
    "#It does not have to be a set, it can be any iterable object.\n",
    "#If an item is present in more than one set, the result will contain only one appearance of this item.\n",
    "Tariff={0.5,12.2,13,15,23}\n",
    "Tariff1={3,12.2,13,7.4,34}\n",
    "Combined_Tariff=Tariff.union(Tariff1)\n",
    "print(Combined_Tariff)"
   ]
  },
  {
   "cell_type": "code",
   "execution_count": 53,
   "id": "0538ce26",
   "metadata": {},
   "outputs": [
    {
     "name": "stdout",
     "output_type": "stream",
     "text": [
      "{0.5, 34, 3, 7.4, 12.2, 13, 15, 23}\n"
     ]
    }
   ],
   "source": [
    "Tariff.update(Tariff1)\n",
    "print(Tariff)"
   ]
  },
  {
   "cell_type": "code",
   "execution_count": 55,
   "id": "3321e584",
   "metadata": {},
   "outputs": [
    {
     "name": "stdout",
     "output_type": "stream",
     "text": [
      "{0.5, 34, 3, 7.4, 12.2, 13, 15, 23}\n"
     ]
    }
   ],
   "source": [
    "Tariff1.update(Tariff)\n",
    "print(Tariff1)"
   ]
  },
  {
   "cell_type": "markdown",
   "id": "80687a13",
   "metadata": {},
   "source": [
    "#### Dictionary methods\n",
    "    clear()\tRemoves all the elements from the dictionary\n",
    "    copy()\tReturns a copy of the dictionary\n",
    "    fromkeys()\tReturns a dictionary with the specified keys and value\n",
    "    get()\tReturns the value of the specified key\n",
    "    items()\tReturns a list containing a tuple for each key value pair\n",
    "    keys()\tReturns a list containing the dictionary's keys\n",
    "    pop()\tRemoves the element with the specified key\n",
    "    popitem()\tRemoves the last inserted key-value pair\n",
    "    setdefault()\tReturns the value of the specified key. If the key does not exist: insert the key, with the specified value\n",
    "    update()\tUpdates the dictionary with the specified key-value pairs\n",
    "    values()\tReturns a list of all the values in the dictionary"
   ]
  },
  {
   "cell_type": "code",
   "execution_count": 59,
   "id": "4ecd1241",
   "metadata": {},
   "outputs": [
    {
     "name": "stdout",
     "output_type": "stream",
     "text": [
      "{'brand': 'Fabindia', 'color': 'Green', 'Print': 'Calligraphy'}\n"
     ]
    }
   ],
   "source": [
    "masks = {\n",
    "  \"brand\": \"Fabindia\",\n",
    "  \"color\": \"Green\",\n",
    "  \"Print\": \"Calligraphy\"\n",
    "}\n",
    "print(masks)"
   ]
  },
  {
   "cell_type": "code",
   "execution_count": 58,
   "id": "0000d9f2",
   "metadata": {},
   "outputs": [
    {
     "name": "stdout",
     "output_type": "stream",
     "text": [
      "{}\n"
     ]
    }
   ],
   "source": [
    "masks.clear()\n",
    "print(masks)"
   ]
  },
  {
   "cell_type": "code",
   "execution_count": 60,
   "id": "36c7852f",
   "metadata": {},
   "outputs": [],
   "source": [
    "masks1=masks.copy()"
   ]
  },
  {
   "cell_type": "code",
   "execution_count": 61,
   "id": "f652f709",
   "metadata": {},
   "outputs": [
    {
     "name": "stdout",
     "output_type": "stream",
     "text": [
      "{'brand': 'Fabindia', 'color': 'Green', 'Print': 'Calligraphy'}\n"
     ]
    }
   ],
   "source": [
    "print(masks1)"
   ]
  },
  {
   "cell_type": "code",
   "execution_count": 71,
   "id": "20b9530c",
   "metadata": {},
   "outputs": [
    {
     "name": "stdout",
     "output_type": "stream",
     "text": [
      "{'brand': ('Benson', 'Fabindia', 'Westside')}\n"
     ]
    }
   ],
   "source": [
    "x=('brand',)\n",
    "y=('Benson','Fabindia','Westside')\n",
    "brand=dict.fromkeys(x,y)\n",
    "print(brand)"
   ]
  },
  {
   "cell_type": "code",
   "execution_count": 67,
   "id": "d9d7a04e",
   "metadata": {},
   "outputs": [
    {
     "name": "stdout",
     "output_type": "stream",
     "text": [
      "{'Color': ('Green', 'White', 'Orange')}\n"
     ]
    }
   ],
   "source": [
    "a=('Color',)\n",
    "b=('Green','White','Orange')\n",
    "colors=dict.fromkeys(a,b)\n",
    "print(colors)"
   ]
  },
  {
   "cell_type": "code",
   "execution_count": 68,
   "id": "8c9a4c8a",
   "metadata": {
    "scrolled": true
   },
   "outputs": [
    {
     "name": "stdout",
     "output_type": "stream",
     "text": [
      "{'Design': ('Calligraphy', 'Warli', 'Kalamkari')}\n"
     ]
    }
   ],
   "source": [
    "m=('Design',)\n",
    "n=('Calligraphy','Warli','Kalamkari')\n",
    "design=dict.fromkeys(m,n)\n",
    "print(design)"
   ]
  },
  {
   "cell_type": "code",
   "execution_count": 103,
   "id": "eaed688b",
   "metadata": {},
   "outputs": [
    {
     "name": "stdout",
     "output_type": "stream",
     "text": [
      "Green\tWhite\tOrange \tCalligraphy\tWarli\tKalamkari\n"
     ]
    }
   ],
   "source": [
    "Masks={\n",
    "\"brand\" : 'Benson''\\tFabindia''\\tWestside',\n",
    "\"Color\" : 'Green''\\tWhite''\\tOrange',\n",
    "\"Design\": '\\tCalligraphy''\\tWarli''\\tKalamkari'}\n",
    "Maskscolor=Masks.get('Color')\n",
    "MaskDesign=Masks.get('Design')\n",
    "print(Maskscolor,MaskDesign)"
   ]
  },
  {
   "cell_type": "code",
   "execution_count": 106,
   "id": "70bf64ec",
   "metadata": {},
   "outputs": [
    {
     "name": "stdout",
     "output_type": "stream",
     "text": [
      "{'brand': ['Benson', 'Fabindia', 'Westside'], 'Color': ['Green', 'White', 'Orange'], 'Design': ['Calligraphy', 'Warli', 'Kalamkari']}\n"
     ]
    },
    {
     "data": {
      "text/plain": [
       "['Benson', 'Fabindia', 'Westside']"
      ]
     },
     "execution_count": 106,
     "metadata": {},
     "output_type": "execute_result"
    }
   ],
   "source": [
    "Masks={\n",
    "\"brand\" : [\"Benson\",\"Fabindia\",\"Westside\"],\n",
    "\"Color\" : ['Green','White','Orange'],\n",
    "\"Design\": ['Calligraphy','Warli','Kalamkari'] }\n",
    "print(Masks)\n",
    "Masks.get('brand')"
   ]
  },
  {
   "cell_type": "code",
   "execution_count": 107,
   "id": "e4499d47",
   "metadata": {},
   "outputs": [
    {
     "name": "stdout",
     "output_type": "stream",
     "text": [
      "dict_items([('brand', ['Benson', 'Fabindia', 'Westside']), ('Color', ['Green', 'White', 'Orange']), ('Design', ['Calligraphy', 'Warli', 'Kalamkari'])])\n"
     ]
    }
   ],
   "source": [
    "#The items() method returns a view object. The view object contains the key-value pairs of the dictionary, as tuples in a list.\n",
    "#The view object will reflect any changes done to the dictionary, see example below.\n",
    "x=Masks.items()\n",
    "print(x)"
   ]
  },
  {
   "cell_type": "code",
   "execution_count": 109,
   "id": "7b1bbc20",
   "metadata": {},
   "outputs": [],
   "source": [
    "Masks ['Shape']='Round','Oval','Square','Rotund'"
   ]
  },
  {
   "cell_type": "code",
   "execution_count": 110,
   "id": "64eb896e",
   "metadata": {},
   "outputs": [
    {
     "name": "stdout",
     "output_type": "stream",
     "text": [
      "dict_items([('brand', ['Benson', 'Fabindia', 'Westside']), ('Color', ['Green', 'White', 'Orange']), ('Design', ['Calligraphy', 'Warli', 'Kalamkari']), ('Shape', ('Round', 'Oval', 'Square', 'Rotund'))])\n"
     ]
    }
   ],
   "source": [
    "print(x)"
   ]
  },
  {
   "cell_type": "code",
   "execution_count": 111,
   "id": "37f84814",
   "metadata": {},
   "outputs": [
    {
     "name": "stdout",
     "output_type": "stream",
     "text": [
      "dict_keys(['brand', 'Color', 'Design', 'Shape'])\n"
     ]
    }
   ],
   "source": [
    "y=Masks.keys()\n",
    "print(y)"
   ]
  },
  {
   "cell_type": "code",
   "execution_count": 112,
   "id": "500e96ee",
   "metadata": {},
   "outputs": [
    {
     "data": {
      "text/plain": [
       "('Round', 'Oval', 'Square', 'Rotund')"
      ]
     },
     "execution_count": 112,
     "metadata": {},
     "output_type": "execute_result"
    }
   ],
   "source": [
    "Masks.pop('Shape')"
   ]
  },
  {
   "cell_type": "code",
   "execution_count": 113,
   "id": "ad7c4063",
   "metadata": {},
   "outputs": [
    {
     "name": "stdout",
     "output_type": "stream",
     "text": [
      "dict_keys(['brand', 'Color', 'Design'])\n"
     ]
    }
   ],
   "source": [
    "y=Masks.keys()\n",
    "print(y)"
   ]
  },
  {
   "cell_type": "code",
   "execution_count": 114,
   "id": "8e467005",
   "metadata": {},
   "outputs": [
    {
     "name": "stdout",
     "output_type": "stream",
     "text": [
      "{'brand': ['Benson', 'Fabindia', 'Westside'], 'Color': ['Green', 'White', 'Orange'], 'Design': ['Calligraphy', 'Warli', 'Kalamkari'], 'Shape': ('Round', 'Oval', 'Square', 'Rotund')}\n"
     ]
    }
   ],
   "source": [
    "Masks ['Shape']='Round','Oval','Square','Rotund'\n",
    "print(Masks)"
   ]
  },
  {
   "cell_type": "code",
   "execution_count": 115,
   "id": "33688fab",
   "metadata": {},
   "outputs": [
    {
     "name": "stdout",
     "output_type": "stream",
     "text": [
      "{'brand': ['Benson', 'Fabindia', 'Westside'], 'Color': ['Green', 'White', 'Orange'], 'Design': ['Calligraphy', 'Warli', 'Kalamkari']}\n"
     ]
    }
   ],
   "source": [
    "Masks.popitem()\n",
    "print(Masks)"
   ]
  },
  {
   "cell_type": "code",
   "execution_count": 118,
   "id": "cd46d980",
   "metadata": {},
   "outputs": [
    {
     "name": "stdout",
     "output_type": "stream",
     "text": [
      "['Round', 'Oval', 'Square', 'Rotund']\n"
     ]
    }
   ],
   "source": [
    "x=Masks.setdefault('Shape',['Round', 'Oval', 'Square', 'Rotund'])\n",
    "print(x)"
   ]
  },
  {
   "cell_type": "code",
   "execution_count": 119,
   "id": "c76a0150",
   "metadata": {},
   "outputs": [
    {
     "data": {
      "text/plain": [
       "dict_items([('brand', ['Benson', 'Fabindia', 'Westside']), ('Color', ['Green', 'White', 'Orange']), ('Design', ['Calligraphy', 'Warli', 'Kalamkari']), ('Shape', ['Round', 'Oval', 'Square', 'Rotund'])])"
      ]
     },
     "execution_count": 119,
     "metadata": {},
     "output_type": "execute_result"
    }
   ],
   "source": [
    "Masks.items()"
   ]
  },
  {
   "cell_type": "code",
   "execution_count": 122,
   "id": "14b597e9",
   "metadata": {},
   "outputs": [],
   "source": [
    "Masks.update({'Material':['Cotton','Silk','Hosiery','Nylon']})"
   ]
  },
  {
   "cell_type": "code",
   "execution_count": 123,
   "id": "d4a8c947",
   "metadata": {},
   "outputs": [
    {
     "name": "stdout",
     "output_type": "stream",
     "text": [
      "{'brand': ['Benson', 'Fabindia', 'Westside'], 'Color': ['Green', 'White', 'Orange'], 'Design': ['Calligraphy', 'Warli', 'Kalamkari'], 'Shape': ['Round', 'Oval', 'Square', 'Rotund'], 'Material': ['Cotton', 'Silk', 'Hosiery', 'Nylon']}\n"
     ]
    }
   ],
   "source": [
    "print(Masks)"
   ]
  },
  {
   "cell_type": "code",
   "execution_count": 124,
   "id": "747c3af1",
   "metadata": {},
   "outputs": [
    {
     "data": {
      "text/plain": [
       "dict_values([['Benson', 'Fabindia', 'Westside'], ['Green', 'White', 'Orange'], ['Calligraphy', 'Warli', 'Kalamkari'], ['Round', 'Oval', 'Square', 'Rotund'], ['Cotton', 'Silk', 'Hosiery', 'Nylon']])"
      ]
     },
     "execution_count": 124,
     "metadata": {},
     "output_type": "execute_result"
    }
   ],
   "source": [
    "Masks.values()"
   ]
  }
 ],
 "metadata": {
  "kernelspec": {
   "display_name": "Python 3",
   "language": "python",
   "name": "python3"
  },
  "language_info": {
   "codemirror_mode": {
    "name": "ipython",
    "version": 3
   },
   "file_extension": ".py",
   "mimetype": "text/x-python",
   "name": "python",
   "nbconvert_exporter": "python",
   "pygments_lexer": "ipython3",
   "version": "3.8.8"
  }
 },
 "nbformat": 4,
 "nbformat_minor": 5
}
