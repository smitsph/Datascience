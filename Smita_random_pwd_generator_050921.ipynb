{
 "cells": [
  {
   "cell_type": "markdown",
   "metadata": {
    "id": "o4agzwPS-tda"
   },
   "source": [
    "### **Write a program to create a random password generator by using basic python inbuilt functions and datatype.**"
   ]
  },
  {
   "cell_type": "markdown",
   "metadata": {},
   "source": [
    "##### Code 1\n",
    "Context \n",
    "To build a program to create a random password generator by using basic python inbuilt functions and datatype.\n",
    "In this code the max and min length of password has been predefined in the code itself\n",
    "\n",
    "Logic used in building the code\n",
    "A range of length of the password between 6 and 12 is created and used as parameter of max and min lenght in th randint fucntion \n",
    "the differnt type of characters in the password is concatenated and stored in variable letters\n",
    "the function random.choice is run through the defined length in the length variable\n",
    "The random password generated in stored in variable password and the print statement provided with the generated password.\n",
    "\n",
    "Functions used\n",
    "The code uses modules random and string methods and user defined function randomPassword()"
   ]
  },
  {
   "cell_type": "code",
   "execution_count": 9,
   "metadata": {},
   "outputs": [
    {
     "name": "stdout",
     "output_type": "stream",
     "text": [
      "The password generated for you is  u9I'/>oT\n"
     ]
    }
   ],
   "source": [
    "#Code 1\n",
    "import string\n",
    "import random\n",
    " \n",
    "def randomPassword():\n",
    "  minlength=6\n",
    "  maxlength=12\n",
    "  length = random.randint(minlength,maxlength)\n",
    "  letters = string.ascii_letters+string.digits+string.punctuation\n",
    "  return ''.join([random.choice(letters) for _ in range(length)])\n",
    " \n",
    "password = randomPassword()\n",
    "print('The password generated for you is ', password)"
   ]
  },
  {
   "cell_type": "markdown",
   "metadata": {},
   "source": [
    "#### Code2:\n",
    "    Context \n",
    "    To build a program to create a random password generator by using basic python inbuilt functions and datatype.\n",
    "    In this code user input of password length is used.\n",
    "\n",
    "    Logic built on following lines\n",
    "    Step 1 : Take a user input of password's length.\n",
    "    Step 2 : Substract 4 from the length and store the result in a variable. rest_index= length-4\n",
    "    Step 3 : To make sure your password have at least one uppercase , one lowercase letter, one digit and one character , \n",
    "         you need to keep 4 space in the index. That's why we substracted 4 in step 2. \n",
    "             Now randomly select one Uppercase , one Lowercase , one digit , one special character and store them \n",
    "             in variable.\n",
    "             password+=radom uppercase+random lowercase + random digit + random special character\n",
    "    Step 4 : Now we will shuffle the position of the strings in password so that the index of them become \n",
    "              unpredictable as well password=shuffle the position of all the strings\n",
    "    Step 5 : Now for the rest of the strings , we will execute a loop starting from 0 to length-4 \n",
    "             (as we have figured four letter first). password=shuffle the position of all the strings\n",
    "    Step 6 : Now in that loop we will choose one string randomly and we will randomly select would that be \n",
    "             a uppercase or lowercase or digit or special charecter . \n",
    "             temp = random (Uppercase/ Lowercase/digit/special charecter); \n",
    "             if temp=uppercase then pasword+=random uppercase\n",
    "    Step 7 : Now you can print the password. print(pasword)\n",
    "\n",
    "    Functions used\n",
    "    random - module :\n",
    "    This module implements pseudo-random number generators for various distributions.\n",
    "    1random.choice(seq) : Return a random element from the non-empty sequence seq.\n",
    "    2random.sample(population, k, *, counts=None) : Return a k length list of unique elements chosen from the population sequence or set. Used for random sampling without replacement.\n",
    "\n",
    "    String operations :\n",
    "    This module implements pseudo-random number generators for various distributions.\n",
    "    1.string.ascii_lowercase : The lowercase letters 'abcdefghijklmnopqrstuvwxyz'.\n",
    "    2.string.ascii_uppercase: The uppercase letters 'ABCDEFGHIJKLMNOPQRSTUVWXYZ'. \n",
    "    3.string.digits: The string '0123456789'.\n",
    "    4.string.punctuation: String of ASCII characters which are considered punctuation characters "
   ]
  },
  {
   "cell_type": "code",
   "execution_count": 6,
   "metadata": {
    "id": "CDAWY1fBDe67",
    "scrolled": true
   },
   "outputs": [
    {
     "name": "stdout",
     "output_type": "stream",
     "text": [
      "Choose length of password, minimum 4:    4\n",
      "Your password is containg atleast 1 upper case, one lowercase, one digit and one special character is :  =4hD\n"
     ]
    }
   ],
   "source": [
    "import random as rand\n",
    "import string\n",
    "\n",
    "length=int(input(\"Choose length of password, minimum 4:    \"))\n",
    "password=\"\" \n",
    "rest_index=length-4\n",
    "\n",
    "password+=rand.choice(string.ascii_uppercase)+rand.choice(string.ascii_lowercase)+ rand.choice(string.digits)+rand.choice(string.punctuation)\n",
    "password=  ''.join((rand.sample(password,len(password)))) \n",
    "mainChoice=[\"U\",\"L\",\"N\",\"S\"]          \n",
    "for x in range(0,rest_index):\n",
    "    temp=rand.choice(mainChoice)\n",
    "\n",
    "    if(temp==\"U\"):\n",
    "        password+=rand.choice(string.ascii_uppercase)\n",
    "\n",
    "    if(temp==\"L\"):\n",
    "        password+=rand.choice(string.ascii_lowercase)\n",
    "\n",
    "    if(temp==\"N\"):\n",
    "        password+= rand.choice(string.digits)\n",
    "\n",
    "    if(temp==\"S\"):\n",
    "        password+=rand.choice(string.punctuation)\n",
    "\n",
    "print(\"Your password is containg atleast 1 upper case, one lowercase, one digit and one special character is : \", password)"
   ]
  },
  {
   "cell_type": "markdown",
   "metadata": {},
   "source": [
    "#### Code 3\n",
    "\n",
    "    Context \n",
    "    To build a program to create a random password generator by using basic python inbuilt functions and datatype. \\\n",
    "    In this code the length of each type of characters, ie. alphabet-case,digit,punctuation is defined\n",
    "\n",
    "    Logic built on following lines\n",
    "    1. Import modules random and string\n",
    "    2. User defined function get_random_string with arguments to generate defined numbers of character or digit or \n",
    "    special characters.this also helps define the number of different types of conditional characters to be used \n",
    "    in the   password generation\n",
    "    3. Initialise the four variables with blank values\n",
    "    4. create a for loop for appending the random values that fulfill the requirments into the variable\n",
    "     . for eg. upper case in to uchars and for choosing only uppercase\n",
    "    5. Creating variable random string with random values for the length of the variable\n",
    "    6. Call the function and give print command.\n",
    "   \n",
    "    Functions used \n",
    "    user defined function get_random_string : to define composition of password.\n",
    "    Random.systemRandom() : to generate random numbers from sources provided by the operating system\n",
    "\n",
    "    string operations to define type of characters,digits etc."
   ]
  },
  {
   "cell_type": "code",
   "execution_count": 2,
   "metadata": {},
   "outputs": [
    {
     "name": "stdout",
     "output_type": "stream",
     "text": [
      "Your Random String-1: 2(0ouiB>\n",
      "Your Random String-2: ^v0}5pfO\n"
     ]
    }
   ],
   "source": [
    "import random\n",
    "import string\n",
    "\n",
    "# uchars = Uppercase charaters\n",
    "# lchars =  Lowercase charaters\n",
    "# dchars = Digits\n",
    "# schars = Punctuation or Special Charaters\n",
    "\n",
    "def get_random_string(uchars = 1, lchars = 3, dchars = 2, schars = 2):\n",
    "    # Generates a 8 characters long random string\n",
    "    # with 1 upper case, 3 lowe case, 2 digits and 2 special characters\n",
    "\n",
    "    str_uchars, str_lchars, str_dchars, str_schars = '', '', '', ''\n",
    "\n",
    "    for i in range(uchars):\n",
    "        str_uchars += random.SystemRandom().choice(string.ascii_uppercase)\n",
    "\n",
    "    for i in range(lchars):\n",
    "        str_uchars += random.SystemRandom().choice(string.ascii_lowercase)\n",
    "\n",
    "    for i in range(dchars):\n",
    "        str_uchars += random.SystemRandom().choice(string.digits)\n",
    "\n",
    "    for i in range(schars):\n",
    "        str_uchars += random.SystemRandom().choice(string.punctuation)\n",
    "\n",
    "    random_str = str_uchars + str_lchars + str_dchars + str_schars\n",
    "    random_str = ''.join(random.sample(random_str, len(random_str)))\n",
    "    return random_str\n",
    "\n",
    "\n",
    "print('Your Random String-1:', get_random_string())\n",
    "\n",
    "# generates 1 uppercase, 3 lowercase, 2 digits and 2 punctuation\n",
    "print('Your Random String-2:', get_random_string(1, 3, 2, 2))"
   ]
  }
 ],
 "metadata": {
  "colab": {
   "name": "Random_password_generator.ipynb",
   "provenance": []
  },
  "kernelspec": {
   "display_name": "Python 3",
   "language": "python",
   "name": "python3"
  },
  "language_info": {
   "codemirror_mode": {
    "name": "ipython",
    "version": 3
   },
   "file_extension": ".py",
   "mimetype": "text/x-python",
   "name": "python",
   "nbconvert_exporter": "python",
   "pygments_lexer": "ipython3",
   "version": "3.8.8"
  }
 },
 "nbformat": 4,
 "nbformat_minor": 1
}
