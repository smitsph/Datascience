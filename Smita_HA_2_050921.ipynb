{
 "cells": [
  {
   "cell_type": "markdown",
   "metadata": {
    "id": "fHdKaCYoaCha"
   },
   "source": [
    "### Assignment -2 (Given on: 05-Sep-2021)\n",
    "##### Deadline: 11-Sep-2021\n",
    "##### Submit assign. here: https://docs.google.com/forms/d/e/1FAIpQLSeY0MZugzSerAtqJYcHV1TVi9xifUATR_rsCjM3foey-mPrvA/viewform?usp=sf_link\n",
    "\n",
    "##### Mini Project link: https://drive.google.com/drive/folders/1WPeUXsOd4Rr9WakC0oUO5RfhetjY3DFL?usp=sharing\n",
    "\n",
    "##### Submit Mini Project here: https://docs.google.com/forms/d/e/1FAIpQLSflNrxcnWFum9tHjdMYJoaXod2Eh2H-X_heauM2sot2leLC8g/viewform?usp=sf_link"
   ]
  },
  {
   "cell_type": "markdown",
   "metadata": {
    "id": "Bn4mWQiaWLBr"
   },
   "source": [
    "### Find numbers which have 13 as factor for below list using List Comprehension : \n",
    "numbers = [13, 5, 9, 25, 65, 71, 81, 91]\n"
   ]
  },
  {
   "cell_type": "code",
   "execution_count": 67,
   "metadata": {},
   "outputs": [
    {
     "name": "stdout",
     "output_type": "stream",
     "text": [
      "[13, 65, 91]\n"
     ]
    }
   ],
   "source": [
    "numbers=[13, 5, 9, 25, 65, 71, 81, 91]\n",
    "new_list = [x for x in numbers if int(x) % 13 == 0]\n",
    "print(new_list)"
   ]
  },
  {
   "cell_type": "code",
   "execution_count": 42,
   "metadata": {
    "id": "Rmr6Ug6AB6sM"
   },
   "outputs": [
    {
     "name": "stdout",
     "output_type": "stream",
     "text": [
      "[13, 65, 91]\n"
     ]
    }
   ],
   "source": [
    "numbers = [13, 5, 9, 25, 65, 71, 81, 91]\n",
    "newlist=[]\n",
    "for x in numbers:\n",
    "    if x % 13 == 0:\n",
    "        newlist.append(x)\n",
    "print(newlist)"
   ]
  },
  {
   "cell_type": "markdown",
   "metadata": {
    "id": "udF_cTfcXByJ"
   },
   "source": [
    "### Write a Python script to concatenate following dictionaries to create a new one\n",
    "#### Input\n",
    "\n",
    "dic1={1:10, 2:20}\n",
    "\n",
    "dic2={3:30, 4:40}\n",
    "\n",
    "dic3={5:50,6:60}"
   ]
  },
  {
   "cell_type": "code",
   "execution_count": 20,
   "metadata": {},
   "outputs": [
    {
     "name": "stdout",
     "output_type": "stream",
     "text": [
      "{1: 10, 2: 20, 3: 30, 4: 40, 5: 50, 6: 60}\n"
     ]
    }
   ],
   "source": [
    "dic1={1:10, 2:20}\n",
    "dic2={3:30, 4:40}\n",
    "dic3={5:50,6:60}\n",
    "dic4 = {}\n",
    "for d in (dic1, dic2, dic3): \n",
    "    dic4.update(d)\n",
    "print(dic4)"
   ]
  },
  {
   "cell_type": "markdown",
   "metadata": {
    "id": "WjFvEJMPWXq5"
   },
   "source": [
    "### Given a list of products : [\"gold\", \"mobile\", \"refrigerator\", \"ac\", \"coat\", \"shirt\", \"nail polish\", \"shoes\"]\n",
    "\n",
    "you have to levy 20% gst on electronic products and 5% on non-electronic. Make it using a function.\n",
    "Ask product name and price from the user for now\n"
   ]
  },
  {
   "cell_type": "code",
   "execution_count": 1,
   "metadata": {
    "id": "rnNYpBJpB6uv"
   },
   "outputs": [
    {
     "name": "stdout",
     "output_type": "stream",
     "text": [
      "CHOOSE ONE ITEM FROM PRODUCTS : gold,mobile,refrigerator, ac, coat, shirt, nailpolish, shoesMOBILE\n",
      "QUOTE A PRICE FOR THE ABOVE PRODUCT :100\n",
      "Your choice is: MOBILE your quote: 100 GST AMOUNT: 20.0 and TOTALCOST IS: 120.0\n"
     ]
    }
   ],
   "source": [
    "PRODUCTS=(input(\"CHOOSE ONE ITEM FROM PRODUCTS : gold,mobile,refrigerator, ac, coat, shirt, nailpolish, shoes\"))\n",
    "PRICE1=int(input('QUOTE A PRICE FOR THE ABOVE PRODUCT :'))\n",
    "def mart(a,b):\n",
    "    for i in PRODUCTS.split():\n",
    "        if i.lower() in (['gold','coat','shirt','nailpolish','shoes']):\n",
    "            print('Your choice is:',i, 'your quote:',PRICE1,'GST AMOUNT:',(PRICE1*(5/100)),'and TOTALCOST IS:',PRICE1 +(PRICE1*(5/100)))\n",
    "        if i.lower() in (['mobile','refrigerator', 'ac']):\n",
    "            print('Your choice is:',i, 'your quote:',PRICE1,'GST AMOUNT:',(PRICE1*(20/100)),'and TOTALCOST IS:',PRICE1+(PRICE1*(20/100)))\n",
    "    else: \n",
    "        if i.lower() not in (['gold','coat','shirt','nailpolish','shoes','mobile','refrigerator', 'ac']):  \n",
    "            print('Your choice is not in list')\n",
    "mart(PRODUCTS,PRICE1)         "
   ]
  },
  {
   "cell_type": "markdown",
   "metadata": {
    "id": "AEkAyT49XeiY"
   },
   "source": [
    "### Shopping List App \n",
    "\n",
    "    We are going to make a \"Shopping List\" app. \n",
    "    Run the script to start using it.\n",
    "    Put new things into the list one at a time\n",
    "    Enter the word DONE in all caps to quit the program\n",
    "    And once i quit, I want the app to show me everything thats on my list.\n",
    "\n",
    "Hint 1\n",
    "    \n",
    "    Step 1: Make a list to hold onto our items.\n",
    "    Step 2: Print out instructions on how to use the app\n",
    "    Step 3: Ask for new items\n",
    "    Step 4: Add new items to our list\n",
    "    Step 5: Be able to quit the app with DONE\n",
    "    Step 6: print out the list\n"
   ]
  },
  {
   "cell_type": "code",
   "execution_count": 3,
   "metadata": {
    "id": "diaOVsBKB6xF"
   },
   "outputs": [
    {
     "name": "stdout",
     "output_type": "stream",
     "text": [
      "Please enter the items to be added to your cart.\n",
      "When you have reached the end of your list, please enter 'DONE'\n",
      "> SOAPS\n",
      "> TALCUM POWDER\n",
      "> PERFUME\n",
      "> ROOM FRESHNER\n",
      "> TISSUE PAPER\n",
      "> DONE\n",
      "Your cart contains the following items :\n",
      "SOAPS,TALCUM POWDER,PERFUME,ROOM FRESHNER,TISSUE PAPER,"
     ]
    }
   ],
   "source": [
    "shopping_list = []\n",
    "print(\"Please enter the items to be added to your cart.\")\n",
    "print(\"When you have reached the end of your list, please enter 'DONE'\")\n",
    "while True:\n",
    "    new_item = input(\"> \")\n",
    "    if new_item == 'DONE':\n",
    "        break\n",
    "    shopping_list.append(new_item)\n",
    "print(\"Your cart contains the following items :\")\n",
    "for all_items in shopping_list:\n",
    "    print(all_items,end=\",\")"
   ]
  },
  {
   "cell_type": "markdown",
   "metadata": {
    "id": "WKZQ6uFgYuUT"
   },
   "source": [
    "### Create nested functions to do the following tasks:\n",
    "Create an outer function that will accept two parameters, a and b\n",
    "\n",
    "Create an inner function inside an outer function that will calculate the addition of a and b\n",
    "\n",
    "At last, an outer function will add 5 into addition and return it"
   ]
  },
  {
   "cell_type": "code",
   "execution_count": 71,
   "metadata": {
    "id": "k9AWikduB6zd"
   },
   "outputs": [
    {
     "name": "stdout",
     "output_type": "stream",
     "text": [
      "Enter value for a :7\n",
      "Enter value for b :32\n",
      "44\n"
     ]
    }
   ],
   "source": [
    "a=int(input('Enter value for a :'))\n",
    "b=int(input('Enter value for b :'))\n",
    "def outer_fun(a, b):\n",
    "    def addition(a, b):\n",
    "        return a + b\n",
    "    add = addition(a, b)\n",
    "    return add + 5\n",
    "result = outer_fun( a,b)\n",
    "print(result)"
   ]
  }
 ],
 "metadata": {
  "colab": {
   "name": "Home_Assignment_2.ipynb",
   "provenance": []
  },
  "kernelspec": {
   "display_name": "Python 3",
   "language": "python",
   "name": "python3"
  },
  "language_info": {
   "codemirror_mode": {
    "name": "ipython",
    "version": 3
   },
   "file_extension": ".py",
   "mimetype": "text/x-python",
   "name": "python",
   "nbconvert_exporter": "python",
   "pygments_lexer": "ipython3",
   "version": "3.8.8"
  }
 },
 "nbformat": 4,
 "nbformat_minor": 1
}
